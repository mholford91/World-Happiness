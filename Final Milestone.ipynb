{
 "cells": [
  {
   "cell_type": "markdown",
   "metadata": {},
   "source": [
    "# World Happiness Prediction Model\n",
    "# Megan Holford\n",
    "DSC 630"
   ]
  },
  {
   "cell_type": "markdown",
   "metadata": {},
   "source": [
    "For my class project I want to look at the World Happiness rankings from the last several years and see what kind of trends and correlations can be found in the data and if a prediction model can be built.\n",
    "\n",
    "I am getting my dataset from: https://www.kaggle.com/mathurinache/world-happiness-report?select=2017.csv.\n",
    "\n",
    "This has the data from the last several years and so I will be cleaning and combining it to take a look so that more data can be used for model training and testing."
   ]
  },
  {
   "cell_type": "code",
   "execution_count": 1,
   "metadata": {},
   "outputs": [],
   "source": [
    "# Importing libraries\n",
    "\n",
    "import pandas as pd\n",
    "import numpy as np\n",
    "import matplotlib.pyplot as plt\n",
    "import seaborn as sns\n",
    "from sklearn.metrics import mean_absolute_error,mean_squared_error,r2_score\n",
    "\n",
    "\n",
    "\n",
    "\n"
   ]
  },
  {
   "cell_type": "code",
   "execution_count": 2,
   "metadata": {},
   "outputs": [],
   "source": [
    "happy_2015 = pd.read_csv(\"2015.csv\")\n",
    "happy_2016 = pd.read_csv(\"2016.csv\")\n",
    "happy_2017 = pd.read_csv(\"2017.csv\")\n",
    "happy_2018 = pd.read_csv(\"2018.csv\")\n",
    "happy_2019 = pd.read_csv(\"2019.csv\")\n",
    "happy_2020 = pd.read_csv(\"2020.csv\")"
   ]
  },
  {
   "cell_type": "markdown",
   "metadata": {},
   "source": [
    "We can see a summary of the data set to see what our cloums and data looks like."
   ]
  },
  {
   "cell_type": "code",
   "execution_count": 3,
   "metadata": {},
   "outputs": [
    {
     "data": {
      "text/html": [
       "<div>\n",
       "<style scoped>\n",
       "    .dataframe tbody tr th:only-of-type {\n",
       "        vertical-align: middle;\n",
       "    }\n",
       "\n",
       "    .dataframe tbody tr th {\n",
       "        vertical-align: top;\n",
       "    }\n",
       "\n",
       "    .dataframe thead th {\n",
       "        text-align: right;\n",
       "    }\n",
       "</style>\n",
       "<table border=\"1\" class=\"dataframe\">\n",
       "  <thead>\n",
       "    <tr style=\"text-align: right;\">\n",
       "      <th></th>\n",
       "      <th>Country</th>\n",
       "      <th>Region</th>\n",
       "      <th>Happiness Rank</th>\n",
       "      <th>Happiness Score</th>\n",
       "      <th>Standard Error</th>\n",
       "      <th>Economy (GDP per Capita)</th>\n",
       "      <th>Family</th>\n",
       "      <th>Health (Life Expectancy)</th>\n",
       "      <th>Freedom</th>\n",
       "      <th>Trust (Government Corruption)</th>\n",
       "      <th>Generosity</th>\n",
       "      <th>Dystopia Residual</th>\n",
       "    </tr>\n",
       "  </thead>\n",
       "  <tbody>\n",
       "    <tr>\n",
       "      <th>0</th>\n",
       "      <td>Switzerland</td>\n",
       "      <td>Western Europe</td>\n",
       "      <td>1</td>\n",
       "      <td>7.587</td>\n",
       "      <td>0.03411</td>\n",
       "      <td>1.39651</td>\n",
       "      <td>1.34951</td>\n",
       "      <td>0.94143</td>\n",
       "      <td>0.66557</td>\n",
       "      <td>0.41978</td>\n",
       "      <td>0.29678</td>\n",
       "      <td>2.51738</td>\n",
       "    </tr>\n",
       "    <tr>\n",
       "      <th>1</th>\n",
       "      <td>Iceland</td>\n",
       "      <td>Western Europe</td>\n",
       "      <td>2</td>\n",
       "      <td>7.561</td>\n",
       "      <td>0.04884</td>\n",
       "      <td>1.30232</td>\n",
       "      <td>1.40223</td>\n",
       "      <td>0.94784</td>\n",
       "      <td>0.62877</td>\n",
       "      <td>0.14145</td>\n",
       "      <td>0.43630</td>\n",
       "      <td>2.70201</td>\n",
       "    </tr>\n",
       "    <tr>\n",
       "      <th>2</th>\n",
       "      <td>Denmark</td>\n",
       "      <td>Western Europe</td>\n",
       "      <td>3</td>\n",
       "      <td>7.527</td>\n",
       "      <td>0.03328</td>\n",
       "      <td>1.32548</td>\n",
       "      <td>1.36058</td>\n",
       "      <td>0.87464</td>\n",
       "      <td>0.64938</td>\n",
       "      <td>0.48357</td>\n",
       "      <td>0.34139</td>\n",
       "      <td>2.49204</td>\n",
       "    </tr>\n",
       "    <tr>\n",
       "      <th>3</th>\n",
       "      <td>Norway</td>\n",
       "      <td>Western Europe</td>\n",
       "      <td>4</td>\n",
       "      <td>7.522</td>\n",
       "      <td>0.03880</td>\n",
       "      <td>1.45900</td>\n",
       "      <td>1.33095</td>\n",
       "      <td>0.88521</td>\n",
       "      <td>0.66973</td>\n",
       "      <td>0.36503</td>\n",
       "      <td>0.34699</td>\n",
       "      <td>2.46531</td>\n",
       "    </tr>\n",
       "    <tr>\n",
       "      <th>4</th>\n",
       "      <td>Canada</td>\n",
       "      <td>North America</td>\n",
       "      <td>5</td>\n",
       "      <td>7.427</td>\n",
       "      <td>0.03553</td>\n",
       "      <td>1.32629</td>\n",
       "      <td>1.32261</td>\n",
       "      <td>0.90563</td>\n",
       "      <td>0.63297</td>\n",
       "      <td>0.32957</td>\n",
       "      <td>0.45811</td>\n",
       "      <td>2.45176</td>\n",
       "    </tr>\n",
       "  </tbody>\n",
       "</table>\n",
       "</div>"
      ],
      "text/plain": [
       "       Country          Region  Happiness Rank  Happiness Score  \\\n",
       "0  Switzerland  Western Europe               1            7.587   \n",
       "1      Iceland  Western Europe               2            7.561   \n",
       "2      Denmark  Western Europe               3            7.527   \n",
       "3       Norway  Western Europe               4            7.522   \n",
       "4       Canada   North America               5            7.427   \n",
       "\n",
       "   Standard Error  Economy (GDP per Capita)   Family  \\\n",
       "0         0.03411                   1.39651  1.34951   \n",
       "1         0.04884                   1.30232  1.40223   \n",
       "2         0.03328                   1.32548  1.36058   \n",
       "3         0.03880                   1.45900  1.33095   \n",
       "4         0.03553                   1.32629  1.32261   \n",
       "\n",
       "   Health (Life Expectancy)  Freedom  Trust (Government Corruption)  \\\n",
       "0                   0.94143  0.66557                        0.41978   \n",
       "1                   0.94784  0.62877                        0.14145   \n",
       "2                   0.87464  0.64938                        0.48357   \n",
       "3                   0.88521  0.66973                        0.36503   \n",
       "4                   0.90563  0.63297                        0.32957   \n",
       "\n",
       "   Generosity  Dystopia Residual  \n",
       "0     0.29678            2.51738  \n",
       "1     0.43630            2.70201  \n",
       "2     0.34139            2.49204  \n",
       "3     0.34699            2.46531  \n",
       "4     0.45811            2.45176  "
      ]
     },
     "execution_count": 3,
     "metadata": {},
     "output_type": "execute_result"
    }
   ],
   "source": [
    "happy_2015.head()"
   ]
  },
  {
   "cell_type": "code",
   "execution_count": 4,
   "metadata": {},
   "outputs": [
    {
     "data": {
      "text/html": [
       "<div>\n",
       "<style scoped>\n",
       "    .dataframe tbody tr th:only-of-type {\n",
       "        vertical-align: middle;\n",
       "    }\n",
       "\n",
       "    .dataframe tbody tr th {\n",
       "        vertical-align: top;\n",
       "    }\n",
       "\n",
       "    .dataframe thead th {\n",
       "        text-align: right;\n",
       "    }\n",
       "</style>\n",
       "<table border=\"1\" class=\"dataframe\">\n",
       "  <thead>\n",
       "    <tr style=\"text-align: right;\">\n",
       "      <th></th>\n",
       "      <th>Country</th>\n",
       "      <th>Region</th>\n",
       "      <th>Happiness Rank</th>\n",
       "      <th>Happiness Score</th>\n",
       "      <th>Lower Confidence Interval</th>\n",
       "      <th>Upper Confidence Interval</th>\n",
       "      <th>Economy (GDP per Capita)</th>\n",
       "      <th>Family</th>\n",
       "      <th>Health (Life Expectancy)</th>\n",
       "      <th>Freedom</th>\n",
       "      <th>Trust (Government Corruption)</th>\n",
       "      <th>Generosity</th>\n",
       "      <th>Dystopia Residual</th>\n",
       "    </tr>\n",
       "  </thead>\n",
       "  <tbody>\n",
       "    <tr>\n",
       "      <th>0</th>\n",
       "      <td>Denmark</td>\n",
       "      <td>Western Europe</td>\n",
       "      <td>1</td>\n",
       "      <td>7.526</td>\n",
       "      <td>7.460</td>\n",
       "      <td>7.592</td>\n",
       "      <td>1.44178</td>\n",
       "      <td>1.16374</td>\n",
       "      <td>0.79504</td>\n",
       "      <td>0.57941</td>\n",
       "      <td>0.44453</td>\n",
       "      <td>0.36171</td>\n",
       "      <td>2.73939</td>\n",
       "    </tr>\n",
       "    <tr>\n",
       "      <th>1</th>\n",
       "      <td>Switzerland</td>\n",
       "      <td>Western Europe</td>\n",
       "      <td>2</td>\n",
       "      <td>7.509</td>\n",
       "      <td>7.428</td>\n",
       "      <td>7.590</td>\n",
       "      <td>1.52733</td>\n",
       "      <td>1.14524</td>\n",
       "      <td>0.86303</td>\n",
       "      <td>0.58557</td>\n",
       "      <td>0.41203</td>\n",
       "      <td>0.28083</td>\n",
       "      <td>2.69463</td>\n",
       "    </tr>\n",
       "    <tr>\n",
       "      <th>2</th>\n",
       "      <td>Iceland</td>\n",
       "      <td>Western Europe</td>\n",
       "      <td>3</td>\n",
       "      <td>7.501</td>\n",
       "      <td>7.333</td>\n",
       "      <td>7.669</td>\n",
       "      <td>1.42666</td>\n",
       "      <td>1.18326</td>\n",
       "      <td>0.86733</td>\n",
       "      <td>0.56624</td>\n",
       "      <td>0.14975</td>\n",
       "      <td>0.47678</td>\n",
       "      <td>2.83137</td>\n",
       "    </tr>\n",
       "    <tr>\n",
       "      <th>3</th>\n",
       "      <td>Norway</td>\n",
       "      <td>Western Europe</td>\n",
       "      <td>4</td>\n",
       "      <td>7.498</td>\n",
       "      <td>7.421</td>\n",
       "      <td>7.575</td>\n",
       "      <td>1.57744</td>\n",
       "      <td>1.12690</td>\n",
       "      <td>0.79579</td>\n",
       "      <td>0.59609</td>\n",
       "      <td>0.35776</td>\n",
       "      <td>0.37895</td>\n",
       "      <td>2.66465</td>\n",
       "    </tr>\n",
       "    <tr>\n",
       "      <th>4</th>\n",
       "      <td>Finland</td>\n",
       "      <td>Western Europe</td>\n",
       "      <td>5</td>\n",
       "      <td>7.413</td>\n",
       "      <td>7.351</td>\n",
       "      <td>7.475</td>\n",
       "      <td>1.40598</td>\n",
       "      <td>1.13464</td>\n",
       "      <td>0.81091</td>\n",
       "      <td>0.57104</td>\n",
       "      <td>0.41004</td>\n",
       "      <td>0.25492</td>\n",
       "      <td>2.82596</td>\n",
       "    </tr>\n",
       "  </tbody>\n",
       "</table>\n",
       "</div>"
      ],
      "text/plain": [
       "       Country          Region  Happiness Rank  Happiness Score  \\\n",
       "0      Denmark  Western Europe               1            7.526   \n",
       "1  Switzerland  Western Europe               2            7.509   \n",
       "2      Iceland  Western Europe               3            7.501   \n",
       "3       Norway  Western Europe               4            7.498   \n",
       "4      Finland  Western Europe               5            7.413   \n",
       "\n",
       "   Lower Confidence Interval  Upper Confidence Interval  \\\n",
       "0                      7.460                      7.592   \n",
       "1                      7.428                      7.590   \n",
       "2                      7.333                      7.669   \n",
       "3                      7.421                      7.575   \n",
       "4                      7.351                      7.475   \n",
       "\n",
       "   Economy (GDP per Capita)   Family  Health (Life Expectancy)  Freedom  \\\n",
       "0                   1.44178  1.16374                   0.79504  0.57941   \n",
       "1                   1.52733  1.14524                   0.86303  0.58557   \n",
       "2                   1.42666  1.18326                   0.86733  0.56624   \n",
       "3                   1.57744  1.12690                   0.79579  0.59609   \n",
       "4                   1.40598  1.13464                   0.81091  0.57104   \n",
       "\n",
       "   Trust (Government Corruption)  Generosity  Dystopia Residual  \n",
       "0                        0.44453     0.36171            2.73939  \n",
       "1                        0.41203     0.28083            2.69463  \n",
       "2                        0.14975     0.47678            2.83137  \n",
       "3                        0.35776     0.37895            2.66465  \n",
       "4                        0.41004     0.25492            2.82596  "
      ]
     },
     "execution_count": 4,
     "metadata": {},
     "output_type": "execute_result"
    }
   ],
   "source": [
    "happy_2016.head()"
   ]
  },
  {
   "cell_type": "code",
   "execution_count": 5,
   "metadata": {},
   "outputs": [
    {
     "data": {
      "text/html": [
       "<div>\n",
       "<style scoped>\n",
       "    .dataframe tbody tr th:only-of-type {\n",
       "        vertical-align: middle;\n",
       "    }\n",
       "\n",
       "    .dataframe tbody tr th {\n",
       "        vertical-align: top;\n",
       "    }\n",
       "\n",
       "    .dataframe thead th {\n",
       "        text-align: right;\n",
       "    }\n",
       "</style>\n",
       "<table border=\"1\" class=\"dataframe\">\n",
       "  <thead>\n",
       "    <tr style=\"text-align: right;\">\n",
       "      <th></th>\n",
       "      <th>Country</th>\n",
       "      <th>Happiness.Rank</th>\n",
       "      <th>Happiness.Score</th>\n",
       "      <th>Whisker.high</th>\n",
       "      <th>Whisker.low</th>\n",
       "      <th>Economy..GDP.per.Capita.</th>\n",
       "      <th>Family</th>\n",
       "      <th>Health..Life.Expectancy.</th>\n",
       "      <th>Freedom</th>\n",
       "      <th>Generosity</th>\n",
       "      <th>Trust..Government.Corruption.</th>\n",
       "      <th>Dystopia.Residual</th>\n",
       "    </tr>\n",
       "  </thead>\n",
       "  <tbody>\n",
       "    <tr>\n",
       "      <th>0</th>\n",
       "      <td>Norway</td>\n",
       "      <td>1</td>\n",
       "      <td>7.537</td>\n",
       "      <td>7.594445</td>\n",
       "      <td>7.479556</td>\n",
       "      <td>1.616463</td>\n",
       "      <td>1.533524</td>\n",
       "      <td>0.796667</td>\n",
       "      <td>0.635423</td>\n",
       "      <td>0.362012</td>\n",
       "      <td>0.315964</td>\n",
       "      <td>2.277027</td>\n",
       "    </tr>\n",
       "    <tr>\n",
       "      <th>1</th>\n",
       "      <td>Denmark</td>\n",
       "      <td>2</td>\n",
       "      <td>7.522</td>\n",
       "      <td>7.581728</td>\n",
       "      <td>7.462272</td>\n",
       "      <td>1.482383</td>\n",
       "      <td>1.551122</td>\n",
       "      <td>0.792566</td>\n",
       "      <td>0.626007</td>\n",
       "      <td>0.355280</td>\n",
       "      <td>0.400770</td>\n",
       "      <td>2.313707</td>\n",
       "    </tr>\n",
       "    <tr>\n",
       "      <th>2</th>\n",
       "      <td>Iceland</td>\n",
       "      <td>3</td>\n",
       "      <td>7.504</td>\n",
       "      <td>7.622030</td>\n",
       "      <td>7.385970</td>\n",
       "      <td>1.480633</td>\n",
       "      <td>1.610574</td>\n",
       "      <td>0.833552</td>\n",
       "      <td>0.627163</td>\n",
       "      <td>0.475540</td>\n",
       "      <td>0.153527</td>\n",
       "      <td>2.322715</td>\n",
       "    </tr>\n",
       "    <tr>\n",
       "      <th>3</th>\n",
       "      <td>Switzerland</td>\n",
       "      <td>4</td>\n",
       "      <td>7.494</td>\n",
       "      <td>7.561772</td>\n",
       "      <td>7.426227</td>\n",
       "      <td>1.564980</td>\n",
       "      <td>1.516912</td>\n",
       "      <td>0.858131</td>\n",
       "      <td>0.620071</td>\n",
       "      <td>0.290549</td>\n",
       "      <td>0.367007</td>\n",
       "      <td>2.276716</td>\n",
       "    </tr>\n",
       "    <tr>\n",
       "      <th>4</th>\n",
       "      <td>Finland</td>\n",
       "      <td>5</td>\n",
       "      <td>7.469</td>\n",
       "      <td>7.527542</td>\n",
       "      <td>7.410458</td>\n",
       "      <td>1.443572</td>\n",
       "      <td>1.540247</td>\n",
       "      <td>0.809158</td>\n",
       "      <td>0.617951</td>\n",
       "      <td>0.245483</td>\n",
       "      <td>0.382612</td>\n",
       "      <td>2.430182</td>\n",
       "    </tr>\n",
       "  </tbody>\n",
       "</table>\n",
       "</div>"
      ],
      "text/plain": [
       "       Country  Happiness.Rank  Happiness.Score  Whisker.high  Whisker.low  \\\n",
       "0       Norway               1            7.537      7.594445     7.479556   \n",
       "1      Denmark               2            7.522      7.581728     7.462272   \n",
       "2      Iceland               3            7.504      7.622030     7.385970   \n",
       "3  Switzerland               4            7.494      7.561772     7.426227   \n",
       "4      Finland               5            7.469      7.527542     7.410458   \n",
       "\n",
       "   Economy..GDP.per.Capita.    Family  Health..Life.Expectancy.   Freedom  \\\n",
       "0                  1.616463  1.533524                  0.796667  0.635423   \n",
       "1                  1.482383  1.551122                  0.792566  0.626007   \n",
       "2                  1.480633  1.610574                  0.833552  0.627163   \n",
       "3                  1.564980  1.516912                  0.858131  0.620071   \n",
       "4                  1.443572  1.540247                  0.809158  0.617951   \n",
       "\n",
       "   Generosity  Trust..Government.Corruption.  Dystopia.Residual  \n",
       "0    0.362012                       0.315964           2.277027  \n",
       "1    0.355280                       0.400770           2.313707  \n",
       "2    0.475540                       0.153527           2.322715  \n",
       "3    0.290549                       0.367007           2.276716  \n",
       "4    0.245483                       0.382612           2.430182  "
      ]
     },
     "execution_count": 5,
     "metadata": {},
     "output_type": "execute_result"
    }
   ],
   "source": [
    "happy_2017.head()"
   ]
  },
  {
   "cell_type": "code",
   "execution_count": 6,
   "metadata": {},
   "outputs": [
    {
     "data": {
      "text/html": [
       "<div>\n",
       "<style scoped>\n",
       "    .dataframe tbody tr th:only-of-type {\n",
       "        vertical-align: middle;\n",
       "    }\n",
       "\n",
       "    .dataframe tbody tr th {\n",
       "        vertical-align: top;\n",
       "    }\n",
       "\n",
       "    .dataframe thead th {\n",
       "        text-align: right;\n",
       "    }\n",
       "</style>\n",
       "<table border=\"1\" class=\"dataframe\">\n",
       "  <thead>\n",
       "    <tr style=\"text-align: right;\">\n",
       "      <th></th>\n",
       "      <th>Overall rank</th>\n",
       "      <th>Country or region</th>\n",
       "      <th>Score</th>\n",
       "      <th>GDP per capita</th>\n",
       "      <th>Social support</th>\n",
       "      <th>Healthy life expectancy</th>\n",
       "      <th>Freedom to make life choices</th>\n",
       "      <th>Generosity</th>\n",
       "      <th>Perceptions of corruption</th>\n",
       "    </tr>\n",
       "  </thead>\n",
       "  <tbody>\n",
       "    <tr>\n",
       "      <th>0</th>\n",
       "      <td>1</td>\n",
       "      <td>Finland</td>\n",
       "      <td>7.632</td>\n",
       "      <td>1.305</td>\n",
       "      <td>1.592</td>\n",
       "      <td>0.874</td>\n",
       "      <td>0.681</td>\n",
       "      <td>0.202</td>\n",
       "      <td>0.393</td>\n",
       "    </tr>\n",
       "    <tr>\n",
       "      <th>1</th>\n",
       "      <td>2</td>\n",
       "      <td>Norway</td>\n",
       "      <td>7.594</td>\n",
       "      <td>1.456</td>\n",
       "      <td>1.582</td>\n",
       "      <td>0.861</td>\n",
       "      <td>0.686</td>\n",
       "      <td>0.286</td>\n",
       "      <td>0.340</td>\n",
       "    </tr>\n",
       "    <tr>\n",
       "      <th>2</th>\n",
       "      <td>3</td>\n",
       "      <td>Denmark</td>\n",
       "      <td>7.555</td>\n",
       "      <td>1.351</td>\n",
       "      <td>1.590</td>\n",
       "      <td>0.868</td>\n",
       "      <td>0.683</td>\n",
       "      <td>0.284</td>\n",
       "      <td>0.408</td>\n",
       "    </tr>\n",
       "    <tr>\n",
       "      <th>3</th>\n",
       "      <td>4</td>\n",
       "      <td>Iceland</td>\n",
       "      <td>7.495</td>\n",
       "      <td>1.343</td>\n",
       "      <td>1.644</td>\n",
       "      <td>0.914</td>\n",
       "      <td>0.677</td>\n",
       "      <td>0.353</td>\n",
       "      <td>0.138</td>\n",
       "    </tr>\n",
       "    <tr>\n",
       "      <th>4</th>\n",
       "      <td>5</td>\n",
       "      <td>Switzerland</td>\n",
       "      <td>7.487</td>\n",
       "      <td>1.420</td>\n",
       "      <td>1.549</td>\n",
       "      <td>0.927</td>\n",
       "      <td>0.660</td>\n",
       "      <td>0.256</td>\n",
       "      <td>0.357</td>\n",
       "    </tr>\n",
       "  </tbody>\n",
       "</table>\n",
       "</div>"
      ],
      "text/plain": [
       "   Overall rank Country or region  Score  GDP per capita  Social support  \\\n",
       "0             1           Finland  7.632           1.305           1.592   \n",
       "1             2            Norway  7.594           1.456           1.582   \n",
       "2             3           Denmark  7.555           1.351           1.590   \n",
       "3             4           Iceland  7.495           1.343           1.644   \n",
       "4             5       Switzerland  7.487           1.420           1.549   \n",
       "\n",
       "   Healthy life expectancy  Freedom to make life choices  Generosity  \\\n",
       "0                    0.874                         0.681       0.202   \n",
       "1                    0.861                         0.686       0.286   \n",
       "2                    0.868                         0.683       0.284   \n",
       "3                    0.914                         0.677       0.353   \n",
       "4                    0.927                         0.660       0.256   \n",
       "\n",
       "   Perceptions of corruption  \n",
       "0                      0.393  \n",
       "1                      0.340  \n",
       "2                      0.408  \n",
       "3                      0.138  \n",
       "4                      0.357  "
      ]
     },
     "execution_count": 6,
     "metadata": {},
     "output_type": "execute_result"
    }
   ],
   "source": [
    "happy_2018.head()"
   ]
  },
  {
   "cell_type": "code",
   "execution_count": 7,
   "metadata": {},
   "outputs": [
    {
     "data": {
      "text/html": [
       "<div>\n",
       "<style scoped>\n",
       "    .dataframe tbody tr th:only-of-type {\n",
       "        vertical-align: middle;\n",
       "    }\n",
       "\n",
       "    .dataframe tbody tr th {\n",
       "        vertical-align: top;\n",
       "    }\n",
       "\n",
       "    .dataframe thead th {\n",
       "        text-align: right;\n",
       "    }\n",
       "</style>\n",
       "<table border=\"1\" class=\"dataframe\">\n",
       "  <thead>\n",
       "    <tr style=\"text-align: right;\">\n",
       "      <th></th>\n",
       "      <th>Overall rank</th>\n",
       "      <th>Country or region</th>\n",
       "      <th>Score</th>\n",
       "      <th>GDP per capita</th>\n",
       "      <th>Social support</th>\n",
       "      <th>Healthy life expectancy</th>\n",
       "      <th>Freedom to make life choices</th>\n",
       "      <th>Generosity</th>\n",
       "      <th>Perceptions of corruption</th>\n",
       "    </tr>\n",
       "  </thead>\n",
       "  <tbody>\n",
       "    <tr>\n",
       "      <th>0</th>\n",
       "      <td>1</td>\n",
       "      <td>Finland</td>\n",
       "      <td>7.769</td>\n",
       "      <td>1.340</td>\n",
       "      <td>1.587</td>\n",
       "      <td>0.986</td>\n",
       "      <td>0.596</td>\n",
       "      <td>0.153</td>\n",
       "      <td>0.393</td>\n",
       "    </tr>\n",
       "    <tr>\n",
       "      <th>1</th>\n",
       "      <td>2</td>\n",
       "      <td>Denmark</td>\n",
       "      <td>7.600</td>\n",
       "      <td>1.383</td>\n",
       "      <td>1.573</td>\n",
       "      <td>0.996</td>\n",
       "      <td>0.592</td>\n",
       "      <td>0.252</td>\n",
       "      <td>0.410</td>\n",
       "    </tr>\n",
       "    <tr>\n",
       "      <th>2</th>\n",
       "      <td>3</td>\n",
       "      <td>Norway</td>\n",
       "      <td>7.554</td>\n",
       "      <td>1.488</td>\n",
       "      <td>1.582</td>\n",
       "      <td>1.028</td>\n",
       "      <td>0.603</td>\n",
       "      <td>0.271</td>\n",
       "      <td>0.341</td>\n",
       "    </tr>\n",
       "    <tr>\n",
       "      <th>3</th>\n",
       "      <td>4</td>\n",
       "      <td>Iceland</td>\n",
       "      <td>7.494</td>\n",
       "      <td>1.380</td>\n",
       "      <td>1.624</td>\n",
       "      <td>1.026</td>\n",
       "      <td>0.591</td>\n",
       "      <td>0.354</td>\n",
       "      <td>0.118</td>\n",
       "    </tr>\n",
       "    <tr>\n",
       "      <th>4</th>\n",
       "      <td>5</td>\n",
       "      <td>Netherlands</td>\n",
       "      <td>7.488</td>\n",
       "      <td>1.396</td>\n",
       "      <td>1.522</td>\n",
       "      <td>0.999</td>\n",
       "      <td>0.557</td>\n",
       "      <td>0.322</td>\n",
       "      <td>0.298</td>\n",
       "    </tr>\n",
       "  </tbody>\n",
       "</table>\n",
       "</div>"
      ],
      "text/plain": [
       "   Overall rank Country or region  Score  GDP per capita  Social support  \\\n",
       "0             1           Finland  7.769           1.340           1.587   \n",
       "1             2           Denmark  7.600           1.383           1.573   \n",
       "2             3            Norway  7.554           1.488           1.582   \n",
       "3             4           Iceland  7.494           1.380           1.624   \n",
       "4             5       Netherlands  7.488           1.396           1.522   \n",
       "\n",
       "   Healthy life expectancy  Freedom to make life choices  Generosity  \\\n",
       "0                    0.986                         0.596       0.153   \n",
       "1                    0.996                         0.592       0.252   \n",
       "2                    1.028                         0.603       0.271   \n",
       "3                    1.026                         0.591       0.354   \n",
       "4                    0.999                         0.557       0.322   \n",
       "\n",
       "   Perceptions of corruption  \n",
       "0                      0.393  \n",
       "1                      0.410  \n",
       "2                      0.341  \n",
       "3                      0.118  \n",
       "4                      0.298  "
      ]
     },
     "execution_count": 7,
     "metadata": {},
     "output_type": "execute_result"
    }
   ],
   "source": [
    "happy_2019.head()"
   ]
  },
  {
   "cell_type": "code",
   "execution_count": 8,
   "metadata": {},
   "outputs": [
    {
     "data": {
      "text/html": [
       "<div>\n",
       "<style scoped>\n",
       "    .dataframe tbody tr th:only-of-type {\n",
       "        vertical-align: middle;\n",
       "    }\n",
       "\n",
       "    .dataframe tbody tr th {\n",
       "        vertical-align: top;\n",
       "    }\n",
       "\n",
       "    .dataframe thead th {\n",
       "        text-align: right;\n",
       "    }\n",
       "</style>\n",
       "<table border=\"1\" class=\"dataframe\">\n",
       "  <thead>\n",
       "    <tr style=\"text-align: right;\">\n",
       "      <th></th>\n",
       "      <th>Country name</th>\n",
       "      <th>Regional indicator</th>\n",
       "      <th>Ladder score</th>\n",
       "      <th>Standard error of ladder score</th>\n",
       "      <th>upperwhisker</th>\n",
       "      <th>lowerwhisker</th>\n",
       "      <th>Logged GDP per capita</th>\n",
       "      <th>Social support</th>\n",
       "      <th>Healthy life expectancy</th>\n",
       "      <th>Freedom to make life choices</th>\n",
       "      <th>Generosity</th>\n",
       "      <th>Perceptions of corruption</th>\n",
       "      <th>Ladder score in Dystopia</th>\n",
       "      <th>Explained by: Log GDP per capita</th>\n",
       "      <th>Explained by: Social support</th>\n",
       "      <th>Explained by: Healthy life expectancy</th>\n",
       "      <th>Explained by: Freedom to make life choices</th>\n",
       "      <th>Explained by: Generosity</th>\n",
       "      <th>Explained by: Perceptions of corruption</th>\n",
       "      <th>Dystopia + residual</th>\n",
       "    </tr>\n",
       "  </thead>\n",
       "  <tbody>\n",
       "    <tr>\n",
       "      <th>0</th>\n",
       "      <td>Finland</td>\n",
       "      <td>Western Europe</td>\n",
       "      <td>7.8087</td>\n",
       "      <td>0.031156</td>\n",
       "      <td>7.869766</td>\n",
       "      <td>7.747634</td>\n",
       "      <td>10.639267</td>\n",
       "      <td>0.954330</td>\n",
       "      <td>71.900825</td>\n",
       "      <td>0.949172</td>\n",
       "      <td>-0.059482</td>\n",
       "      <td>0.195445</td>\n",
       "      <td>1.972317</td>\n",
       "      <td>1.285190</td>\n",
       "      <td>1.499526</td>\n",
       "      <td>0.961271</td>\n",
       "      <td>0.662317</td>\n",
       "      <td>0.159670</td>\n",
       "      <td>0.477857</td>\n",
       "      <td>2.762835</td>\n",
       "    </tr>\n",
       "    <tr>\n",
       "      <th>1</th>\n",
       "      <td>Denmark</td>\n",
       "      <td>Western Europe</td>\n",
       "      <td>7.6456</td>\n",
       "      <td>0.033492</td>\n",
       "      <td>7.711245</td>\n",
       "      <td>7.579955</td>\n",
       "      <td>10.774001</td>\n",
       "      <td>0.955991</td>\n",
       "      <td>72.402504</td>\n",
       "      <td>0.951444</td>\n",
       "      <td>0.066202</td>\n",
       "      <td>0.168489</td>\n",
       "      <td>1.972317</td>\n",
       "      <td>1.326949</td>\n",
       "      <td>1.503449</td>\n",
       "      <td>0.979333</td>\n",
       "      <td>0.665040</td>\n",
       "      <td>0.242793</td>\n",
       "      <td>0.495260</td>\n",
       "      <td>2.432741</td>\n",
       "    </tr>\n",
       "    <tr>\n",
       "      <th>2</th>\n",
       "      <td>Switzerland</td>\n",
       "      <td>Western Europe</td>\n",
       "      <td>7.5599</td>\n",
       "      <td>0.035014</td>\n",
       "      <td>7.628528</td>\n",
       "      <td>7.491272</td>\n",
       "      <td>10.979933</td>\n",
       "      <td>0.942847</td>\n",
       "      <td>74.102448</td>\n",
       "      <td>0.921337</td>\n",
       "      <td>0.105911</td>\n",
       "      <td>0.303728</td>\n",
       "      <td>1.972317</td>\n",
       "      <td>1.390774</td>\n",
       "      <td>1.472403</td>\n",
       "      <td>1.040533</td>\n",
       "      <td>0.628954</td>\n",
       "      <td>0.269056</td>\n",
       "      <td>0.407946</td>\n",
       "      <td>2.350267</td>\n",
       "    </tr>\n",
       "    <tr>\n",
       "      <th>3</th>\n",
       "      <td>Iceland</td>\n",
       "      <td>Western Europe</td>\n",
       "      <td>7.5045</td>\n",
       "      <td>0.059616</td>\n",
       "      <td>7.621347</td>\n",
       "      <td>7.387653</td>\n",
       "      <td>10.772559</td>\n",
       "      <td>0.974670</td>\n",
       "      <td>73.000000</td>\n",
       "      <td>0.948892</td>\n",
       "      <td>0.246944</td>\n",
       "      <td>0.711710</td>\n",
       "      <td>1.972317</td>\n",
       "      <td>1.326502</td>\n",
       "      <td>1.547567</td>\n",
       "      <td>1.000843</td>\n",
       "      <td>0.661981</td>\n",
       "      <td>0.362330</td>\n",
       "      <td>0.144541</td>\n",
       "      <td>2.460688</td>\n",
       "    </tr>\n",
       "    <tr>\n",
       "      <th>4</th>\n",
       "      <td>Norway</td>\n",
       "      <td>Western Europe</td>\n",
       "      <td>7.4880</td>\n",
       "      <td>0.034837</td>\n",
       "      <td>7.556281</td>\n",
       "      <td>7.419719</td>\n",
       "      <td>11.087804</td>\n",
       "      <td>0.952487</td>\n",
       "      <td>73.200783</td>\n",
       "      <td>0.955750</td>\n",
       "      <td>0.134533</td>\n",
       "      <td>0.263218</td>\n",
       "      <td>1.972317</td>\n",
       "      <td>1.424207</td>\n",
       "      <td>1.495173</td>\n",
       "      <td>1.008072</td>\n",
       "      <td>0.670201</td>\n",
       "      <td>0.287985</td>\n",
       "      <td>0.434101</td>\n",
       "      <td>2.168266</td>\n",
       "    </tr>\n",
       "  </tbody>\n",
       "</table>\n",
       "</div>"
      ],
      "text/plain": [
       "  Country name Regional indicator  Ladder score  \\\n",
       "0      Finland     Western Europe        7.8087   \n",
       "1      Denmark     Western Europe        7.6456   \n",
       "2  Switzerland     Western Europe        7.5599   \n",
       "3      Iceland     Western Europe        7.5045   \n",
       "4       Norway     Western Europe        7.4880   \n",
       "\n",
       "   Standard error of ladder score  upperwhisker  lowerwhisker  \\\n",
       "0                        0.031156      7.869766      7.747634   \n",
       "1                        0.033492      7.711245      7.579955   \n",
       "2                        0.035014      7.628528      7.491272   \n",
       "3                        0.059616      7.621347      7.387653   \n",
       "4                        0.034837      7.556281      7.419719   \n",
       "\n",
       "   Logged GDP per capita  Social support  Healthy life expectancy  \\\n",
       "0              10.639267        0.954330                71.900825   \n",
       "1              10.774001        0.955991                72.402504   \n",
       "2              10.979933        0.942847                74.102448   \n",
       "3              10.772559        0.974670                73.000000   \n",
       "4              11.087804        0.952487                73.200783   \n",
       "\n",
       "   Freedom to make life choices  Generosity  Perceptions of corruption  \\\n",
       "0                      0.949172   -0.059482                   0.195445   \n",
       "1                      0.951444    0.066202                   0.168489   \n",
       "2                      0.921337    0.105911                   0.303728   \n",
       "3                      0.948892    0.246944                   0.711710   \n",
       "4                      0.955750    0.134533                   0.263218   \n",
       "\n",
       "   Ladder score in Dystopia  Explained by: Log GDP per capita  \\\n",
       "0                  1.972317                          1.285190   \n",
       "1                  1.972317                          1.326949   \n",
       "2                  1.972317                          1.390774   \n",
       "3                  1.972317                          1.326502   \n",
       "4                  1.972317                          1.424207   \n",
       "\n",
       "   Explained by: Social support  Explained by: Healthy life expectancy  \\\n",
       "0                      1.499526                               0.961271   \n",
       "1                      1.503449                               0.979333   \n",
       "2                      1.472403                               1.040533   \n",
       "3                      1.547567                               1.000843   \n",
       "4                      1.495173                               1.008072   \n",
       "\n",
       "   Explained by: Freedom to make life choices  Explained by: Generosity  \\\n",
       "0                                    0.662317                  0.159670   \n",
       "1                                    0.665040                  0.242793   \n",
       "2                                    0.628954                  0.269056   \n",
       "3                                    0.661981                  0.362330   \n",
       "4                                    0.670201                  0.287985   \n",
       "\n",
       "   Explained by: Perceptions of corruption  Dystopia + residual  \n",
       "0                                 0.477857             2.762835  \n",
       "1                                 0.495260             2.432741  \n",
       "2                                 0.407946             2.350267  \n",
       "3                                 0.144541             2.460688  \n",
       "4                                 0.434101             2.168266  "
      ]
     },
     "execution_count": 8,
     "metadata": {},
     "output_type": "execute_result"
    }
   ],
   "source": [
    "happy_2020.head()"
   ]
  },
  {
   "cell_type": "markdown",
   "metadata": {},
   "source": [
    "This is helpful to see the  data, but some of these columns are not neccessary and the columns names are different so if we want to combine the information so we have it all together, we need to address this before we can combine it. "
   ]
  },
  {
   "cell_type": "code",
   "execution_count": 9,
   "metadata": {},
   "outputs": [
    {
     "data": {
      "text/html": [
       "<div>\n",
       "<style scoped>\n",
       "    .dataframe tbody tr th:only-of-type {\n",
       "        vertical-align: middle;\n",
       "    }\n",
       "\n",
       "    .dataframe tbody tr th {\n",
       "        vertical-align: top;\n",
       "    }\n",
       "\n",
       "    .dataframe thead th {\n",
       "        text-align: right;\n",
       "    }\n",
       "</style>\n",
       "<table border=\"1\" class=\"dataframe\">\n",
       "  <thead>\n",
       "    <tr style=\"text-align: right;\">\n",
       "      <th></th>\n",
       "      <th>Country</th>\n",
       "      <th>Happiness_Rank</th>\n",
       "      <th>Happiness_Score</th>\n",
       "      <th>GDP_per_Capita</th>\n",
       "      <th>Family</th>\n",
       "      <th>Health</th>\n",
       "      <th>Freedom</th>\n",
       "      <th>Government_Corruption</th>\n",
       "      <th>Generosity_Score</th>\n",
       "    </tr>\n",
       "  </thead>\n",
       "  <tbody>\n",
       "    <tr>\n",
       "      <th>0</th>\n",
       "      <td>Switzerland</td>\n",
       "      <td>1</td>\n",
       "      <td>7.587</td>\n",
       "      <td>1.39651</td>\n",
       "      <td>1.34951</td>\n",
       "      <td>0.94143</td>\n",
       "      <td>0.66557</td>\n",
       "      <td>0.41978</td>\n",
       "      <td>0.29678</td>\n",
       "    </tr>\n",
       "    <tr>\n",
       "      <th>1</th>\n",
       "      <td>Iceland</td>\n",
       "      <td>2</td>\n",
       "      <td>7.561</td>\n",
       "      <td>1.30232</td>\n",
       "      <td>1.40223</td>\n",
       "      <td>0.94784</td>\n",
       "      <td>0.62877</td>\n",
       "      <td>0.14145</td>\n",
       "      <td>0.43630</td>\n",
       "    </tr>\n",
       "    <tr>\n",
       "      <th>2</th>\n",
       "      <td>Denmark</td>\n",
       "      <td>3</td>\n",
       "      <td>7.527</td>\n",
       "      <td>1.32548</td>\n",
       "      <td>1.36058</td>\n",
       "      <td>0.87464</td>\n",
       "      <td>0.64938</td>\n",
       "      <td>0.48357</td>\n",
       "      <td>0.34139</td>\n",
       "    </tr>\n",
       "    <tr>\n",
       "      <th>3</th>\n",
       "      <td>Norway</td>\n",
       "      <td>4</td>\n",
       "      <td>7.522</td>\n",
       "      <td>1.45900</td>\n",
       "      <td>1.33095</td>\n",
       "      <td>0.88521</td>\n",
       "      <td>0.66973</td>\n",
       "      <td>0.36503</td>\n",
       "      <td>0.34699</td>\n",
       "    </tr>\n",
       "    <tr>\n",
       "      <th>4</th>\n",
       "      <td>Canada</td>\n",
       "      <td>5</td>\n",
       "      <td>7.427</td>\n",
       "      <td>1.32629</td>\n",
       "      <td>1.32261</td>\n",
       "      <td>0.90563</td>\n",
       "      <td>0.63297</td>\n",
       "      <td>0.32957</td>\n",
       "      <td>0.45811</td>\n",
       "    </tr>\n",
       "  </tbody>\n",
       "</table>\n",
       "</div>"
      ],
      "text/plain": [
       "       Country  Happiness_Rank  Happiness_Score  GDP_per_Capita   Family  \\\n",
       "0  Switzerland               1            7.587         1.39651  1.34951   \n",
       "1      Iceland               2            7.561         1.30232  1.40223   \n",
       "2      Denmark               3            7.527         1.32548  1.36058   \n",
       "3       Norway               4            7.522         1.45900  1.33095   \n",
       "4       Canada               5            7.427         1.32629  1.32261   \n",
       "\n",
       "    Health  Freedom  Government_Corruption  Generosity_Score  \n",
       "0  0.94143  0.66557                0.41978           0.29678  \n",
       "1  0.94784  0.62877                0.14145           0.43630  \n",
       "2  0.87464  0.64938                0.48357           0.34139  \n",
       "3  0.88521  0.66973                0.36503           0.34699  \n",
       "4  0.90563  0.63297                0.32957           0.45811  "
      ]
     },
     "execution_count": 9,
     "metadata": {},
     "output_type": "execute_result"
    }
   ],
   "source": [
    "# Here, I am renaming the columns so that they will all match. All the appropriate columns will be renamed to the same thing in each different set for the years.\n",
    "happy_2015 = happy_2015.rename(columns = {'Happiness Rank':'Happiness_Rank', 'Happiness Score':'Happiness_Score', 'Economy (GDP per Capita)':'GDP_per_Capita', 'Health (Life Expectancy)':'Health','Generosity':'Generosity_Score', 'Trust (Government Corruption)':'Government_Corruption'})\n",
    "\n",
    "newhappy_2015 = happy_2015[['Country', 'Happiness_Rank', 'Happiness_Score',\"GDP_per_Capita\", 'Family', 'Health', 'Freedom', 'Government_Corruption', 'Generosity_Score']]\n",
    "newhappy_2015.head()"
   ]
  },
  {
   "cell_type": "code",
   "execution_count": 10,
   "metadata": {},
   "outputs": [
    {
     "data": {
      "text/html": [
       "<div>\n",
       "<style scoped>\n",
       "    .dataframe tbody tr th:only-of-type {\n",
       "        vertical-align: middle;\n",
       "    }\n",
       "\n",
       "    .dataframe tbody tr th {\n",
       "        vertical-align: top;\n",
       "    }\n",
       "\n",
       "    .dataframe thead th {\n",
       "        text-align: right;\n",
       "    }\n",
       "</style>\n",
       "<table border=\"1\" class=\"dataframe\">\n",
       "  <thead>\n",
       "    <tr style=\"text-align: right;\">\n",
       "      <th></th>\n",
       "      <th>Country</th>\n",
       "      <th>Happiness_Rank</th>\n",
       "      <th>Happiness_Score</th>\n",
       "      <th>GDP_per_Capita</th>\n",
       "      <th>Family</th>\n",
       "      <th>Health</th>\n",
       "      <th>Freedom</th>\n",
       "      <th>Government_Corruption</th>\n",
       "      <th>Generosity_Score</th>\n",
       "    </tr>\n",
       "  </thead>\n",
       "  <tbody>\n",
       "    <tr>\n",
       "      <th>0</th>\n",
       "      <td>Denmark</td>\n",
       "      <td>1</td>\n",
       "      <td>7.526</td>\n",
       "      <td>1.44178</td>\n",
       "      <td>1.16374</td>\n",
       "      <td>0.79504</td>\n",
       "      <td>0.57941</td>\n",
       "      <td>0.44453</td>\n",
       "      <td>0.36171</td>\n",
       "    </tr>\n",
       "    <tr>\n",
       "      <th>1</th>\n",
       "      <td>Switzerland</td>\n",
       "      <td>2</td>\n",
       "      <td>7.509</td>\n",
       "      <td>1.52733</td>\n",
       "      <td>1.14524</td>\n",
       "      <td>0.86303</td>\n",
       "      <td>0.58557</td>\n",
       "      <td>0.41203</td>\n",
       "      <td>0.28083</td>\n",
       "    </tr>\n",
       "    <tr>\n",
       "      <th>2</th>\n",
       "      <td>Iceland</td>\n",
       "      <td>3</td>\n",
       "      <td>7.501</td>\n",
       "      <td>1.42666</td>\n",
       "      <td>1.18326</td>\n",
       "      <td>0.86733</td>\n",
       "      <td>0.56624</td>\n",
       "      <td>0.14975</td>\n",
       "      <td>0.47678</td>\n",
       "    </tr>\n",
       "    <tr>\n",
       "      <th>3</th>\n",
       "      <td>Norway</td>\n",
       "      <td>4</td>\n",
       "      <td>7.498</td>\n",
       "      <td>1.57744</td>\n",
       "      <td>1.12690</td>\n",
       "      <td>0.79579</td>\n",
       "      <td>0.59609</td>\n",
       "      <td>0.35776</td>\n",
       "      <td>0.37895</td>\n",
       "    </tr>\n",
       "    <tr>\n",
       "      <th>4</th>\n",
       "      <td>Finland</td>\n",
       "      <td>5</td>\n",
       "      <td>7.413</td>\n",
       "      <td>1.40598</td>\n",
       "      <td>1.13464</td>\n",
       "      <td>0.81091</td>\n",
       "      <td>0.57104</td>\n",
       "      <td>0.41004</td>\n",
       "      <td>0.25492</td>\n",
       "    </tr>\n",
       "  </tbody>\n",
       "</table>\n",
       "</div>"
      ],
      "text/plain": [
       "       Country  Happiness_Rank  Happiness_Score  GDP_per_Capita   Family  \\\n",
       "0      Denmark               1            7.526         1.44178  1.16374   \n",
       "1  Switzerland               2            7.509         1.52733  1.14524   \n",
       "2      Iceland               3            7.501         1.42666  1.18326   \n",
       "3       Norway               4            7.498         1.57744  1.12690   \n",
       "4      Finland               5            7.413         1.40598  1.13464   \n",
       "\n",
       "    Health  Freedom  Government_Corruption  Generosity_Score  \n",
       "0  0.79504  0.57941                0.44453           0.36171  \n",
       "1  0.86303  0.58557                0.41203           0.28083  \n",
       "2  0.86733  0.56624                0.14975           0.47678  \n",
       "3  0.79579  0.59609                0.35776           0.37895  \n",
       "4  0.81091  0.57104                0.41004           0.25492  "
      ]
     },
     "execution_count": 10,
     "metadata": {},
     "output_type": "execute_result"
    }
   ],
   "source": [
    "happy_2016 = happy_2016.rename(columns = {'Happiness Rank':'Happiness_Rank', 'Happiness Score':'Happiness_Score', 'Economy (GDP per Capita)':'GDP_per_Capita', 'Health (Life Expectancy)':'Health','Generosity':'Generosity_Score', 'Trust (Government Corruption)':'Government_Corruption'})\n",
    "\n",
    "newhappy_2016 = happy_2016[['Country', 'Happiness_Rank', 'Happiness_Score',\"GDP_per_Capita\", 'Family', 'Health', 'Freedom', 'Government_Corruption', 'Generosity_Score']]\n",
    "newhappy_2016.head()"
   ]
  },
  {
   "cell_type": "code",
   "execution_count": 11,
   "metadata": {},
   "outputs": [
    {
     "data": {
      "text/html": [
       "<div>\n",
       "<style scoped>\n",
       "    .dataframe tbody tr th:only-of-type {\n",
       "        vertical-align: middle;\n",
       "    }\n",
       "\n",
       "    .dataframe tbody tr th {\n",
       "        vertical-align: top;\n",
       "    }\n",
       "\n",
       "    .dataframe thead th {\n",
       "        text-align: right;\n",
       "    }\n",
       "</style>\n",
       "<table border=\"1\" class=\"dataframe\">\n",
       "  <thead>\n",
       "    <tr style=\"text-align: right;\">\n",
       "      <th></th>\n",
       "      <th>Country</th>\n",
       "      <th>Happiness_Rank</th>\n",
       "      <th>Happiness_Score</th>\n",
       "      <th>GDP_per_Capita</th>\n",
       "      <th>Family</th>\n",
       "      <th>Health</th>\n",
       "      <th>Freedom</th>\n",
       "      <th>Government_Corruption</th>\n",
       "      <th>Generosity_Score</th>\n",
       "    </tr>\n",
       "  </thead>\n",
       "  <tbody>\n",
       "    <tr>\n",
       "      <th>0</th>\n",
       "      <td>Norway</td>\n",
       "      <td>1</td>\n",
       "      <td>7.537</td>\n",
       "      <td>1.616463</td>\n",
       "      <td>1.533524</td>\n",
       "      <td>0.796667</td>\n",
       "      <td>0.635423</td>\n",
       "      <td>0.315964</td>\n",
       "      <td>0.362012</td>\n",
       "    </tr>\n",
       "    <tr>\n",
       "      <th>1</th>\n",
       "      <td>Denmark</td>\n",
       "      <td>2</td>\n",
       "      <td>7.522</td>\n",
       "      <td>1.482383</td>\n",
       "      <td>1.551122</td>\n",
       "      <td>0.792566</td>\n",
       "      <td>0.626007</td>\n",
       "      <td>0.400770</td>\n",
       "      <td>0.355280</td>\n",
       "    </tr>\n",
       "    <tr>\n",
       "      <th>2</th>\n",
       "      <td>Iceland</td>\n",
       "      <td>3</td>\n",
       "      <td>7.504</td>\n",
       "      <td>1.480633</td>\n",
       "      <td>1.610574</td>\n",
       "      <td>0.833552</td>\n",
       "      <td>0.627163</td>\n",
       "      <td>0.153527</td>\n",
       "      <td>0.475540</td>\n",
       "    </tr>\n",
       "    <tr>\n",
       "      <th>3</th>\n",
       "      <td>Switzerland</td>\n",
       "      <td>4</td>\n",
       "      <td>7.494</td>\n",
       "      <td>1.564980</td>\n",
       "      <td>1.516912</td>\n",
       "      <td>0.858131</td>\n",
       "      <td>0.620071</td>\n",
       "      <td>0.367007</td>\n",
       "      <td>0.290549</td>\n",
       "    </tr>\n",
       "    <tr>\n",
       "      <th>4</th>\n",
       "      <td>Finland</td>\n",
       "      <td>5</td>\n",
       "      <td>7.469</td>\n",
       "      <td>1.443572</td>\n",
       "      <td>1.540247</td>\n",
       "      <td>0.809158</td>\n",
       "      <td>0.617951</td>\n",
       "      <td>0.382612</td>\n",
       "      <td>0.245483</td>\n",
       "    </tr>\n",
       "  </tbody>\n",
       "</table>\n",
       "</div>"
      ],
      "text/plain": [
       "       Country  Happiness_Rank  Happiness_Score  GDP_per_Capita    Family  \\\n",
       "0       Norway               1            7.537        1.616463  1.533524   \n",
       "1      Denmark               2            7.522        1.482383  1.551122   \n",
       "2      Iceland               3            7.504        1.480633  1.610574   \n",
       "3  Switzerland               4            7.494        1.564980  1.516912   \n",
       "4      Finland               5            7.469        1.443572  1.540247   \n",
       "\n",
       "     Health   Freedom  Government_Corruption  Generosity_Score  \n",
       "0  0.796667  0.635423               0.315964          0.362012  \n",
       "1  0.792566  0.626007               0.400770          0.355280  \n",
       "2  0.833552  0.627163               0.153527          0.475540  \n",
       "3  0.858131  0.620071               0.367007          0.290549  \n",
       "4  0.809158  0.617951               0.382612          0.245483  "
      ]
     },
     "execution_count": 11,
     "metadata": {},
     "output_type": "execute_result"
    }
   ],
   "source": [
    "happy_2017 = happy_2017.rename(columns = {'Happiness.Rank':'Happiness_Rank', 'Happiness.Score':'Happiness_Score','Economy..GDP.per.Capita.':'GDP_per_Capita','Health..Life.Expectancy.':'Health','Generosity':'Generosity_Score', 'Trust..Government.Corruption.':'Government_Corruption'})\n",
    "\n",
    "# There are some extra columns here that we do not need so we are only selecting those that we do for our new set.\n",
    "newhappy_2017 = happy_2017[['Country', 'Happiness_Rank', 'Happiness_Score',\"GDP_per_Capita\", 'Family', 'Health', 'Freedom', 'Government_Corruption', 'Generosity_Score']]\n",
    "newhappy_2017.head()"
   ]
  },
  {
   "cell_type": "code",
   "execution_count": 12,
   "metadata": {},
   "outputs": [
    {
     "data": {
      "text/html": [
       "<div>\n",
       "<style scoped>\n",
       "    .dataframe tbody tr th:only-of-type {\n",
       "        vertical-align: middle;\n",
       "    }\n",
       "\n",
       "    .dataframe tbody tr th {\n",
       "        vertical-align: top;\n",
       "    }\n",
       "\n",
       "    .dataframe thead th {\n",
       "        text-align: right;\n",
       "    }\n",
       "</style>\n",
       "<table border=\"1\" class=\"dataframe\">\n",
       "  <thead>\n",
       "    <tr style=\"text-align: right;\">\n",
       "      <th></th>\n",
       "      <th>Country</th>\n",
       "      <th>Happiness_Rank</th>\n",
       "      <th>Happiness_Score</th>\n",
       "      <th>GDP_per_Capita</th>\n",
       "      <th>Family</th>\n",
       "      <th>Health</th>\n",
       "      <th>Freedom</th>\n",
       "      <th>Government_Corruption</th>\n",
       "      <th>Generosity_Score</th>\n",
       "    </tr>\n",
       "  </thead>\n",
       "  <tbody>\n",
       "    <tr>\n",
       "      <th>0</th>\n",
       "      <td>Finland</td>\n",
       "      <td>1</td>\n",
       "      <td>7.632</td>\n",
       "      <td>1.305</td>\n",
       "      <td>1.592</td>\n",
       "      <td>0.874</td>\n",
       "      <td>0.681</td>\n",
       "      <td>0.393</td>\n",
       "      <td>0.202</td>\n",
       "    </tr>\n",
       "    <tr>\n",
       "      <th>1</th>\n",
       "      <td>Norway</td>\n",
       "      <td>2</td>\n",
       "      <td>7.594</td>\n",
       "      <td>1.456</td>\n",
       "      <td>1.582</td>\n",
       "      <td>0.861</td>\n",
       "      <td>0.686</td>\n",
       "      <td>0.340</td>\n",
       "      <td>0.286</td>\n",
       "    </tr>\n",
       "    <tr>\n",
       "      <th>2</th>\n",
       "      <td>Denmark</td>\n",
       "      <td>3</td>\n",
       "      <td>7.555</td>\n",
       "      <td>1.351</td>\n",
       "      <td>1.590</td>\n",
       "      <td>0.868</td>\n",
       "      <td>0.683</td>\n",
       "      <td>0.408</td>\n",
       "      <td>0.284</td>\n",
       "    </tr>\n",
       "    <tr>\n",
       "      <th>3</th>\n",
       "      <td>Iceland</td>\n",
       "      <td>4</td>\n",
       "      <td>7.495</td>\n",
       "      <td>1.343</td>\n",
       "      <td>1.644</td>\n",
       "      <td>0.914</td>\n",
       "      <td>0.677</td>\n",
       "      <td>0.138</td>\n",
       "      <td>0.353</td>\n",
       "    </tr>\n",
       "    <tr>\n",
       "      <th>4</th>\n",
       "      <td>Switzerland</td>\n",
       "      <td>5</td>\n",
       "      <td>7.487</td>\n",
       "      <td>1.420</td>\n",
       "      <td>1.549</td>\n",
       "      <td>0.927</td>\n",
       "      <td>0.660</td>\n",
       "      <td>0.357</td>\n",
       "      <td>0.256</td>\n",
       "    </tr>\n",
       "  </tbody>\n",
       "</table>\n",
       "</div>"
      ],
      "text/plain": [
       "       Country  Happiness_Rank  Happiness_Score  GDP_per_Capita  Family  \\\n",
       "0      Finland               1            7.632           1.305   1.592   \n",
       "1       Norway               2            7.594           1.456   1.582   \n",
       "2      Denmark               3            7.555           1.351   1.590   \n",
       "3      Iceland               4            7.495           1.343   1.644   \n",
       "4  Switzerland               5            7.487           1.420   1.549   \n",
       "\n",
       "   Health  Freedom  Government_Corruption  Generosity_Score  \n",
       "0   0.874    0.681                  0.393             0.202  \n",
       "1   0.861    0.686                  0.340             0.286  \n",
       "2   0.868    0.683                  0.408             0.284  \n",
       "3   0.914    0.677                  0.138             0.353  \n",
       "4   0.927    0.660                  0.357             0.256  "
      ]
     },
     "execution_count": 12,
     "metadata": {},
     "output_type": "execute_result"
    }
   ],
   "source": [
    "happy_2018 = happy_2018.rename(columns = {'Overall rank':'Happiness_Rank', 'Country or region':'Country', 'Score':'Happiness_Score', 'GDP per capita':'GDP_per_Capita', 'Social support':'Family','Generosity':'Generosity_Score', 'Healthy life expectancy':'Health', 'Freedom to make life choices':'Freedom', 'Perceptions of corruption':'Government_Corruption'})\n",
    "\n",
    "newhappy_2018 = happy_2018[['Country', 'Happiness_Rank', 'Happiness_Score',\"GDP_per_Capita\", 'Family', 'Health', 'Freedom', 'Government_Corruption', 'Generosity_Score']]\n",
    "newhappy_2018.head()"
   ]
  },
  {
   "cell_type": "code",
   "execution_count": 13,
   "metadata": {},
   "outputs": [
    {
     "data": {
      "text/html": [
       "<div>\n",
       "<style scoped>\n",
       "    .dataframe tbody tr th:only-of-type {\n",
       "        vertical-align: middle;\n",
       "    }\n",
       "\n",
       "    .dataframe tbody tr th {\n",
       "        vertical-align: top;\n",
       "    }\n",
       "\n",
       "    .dataframe thead th {\n",
       "        text-align: right;\n",
       "    }\n",
       "</style>\n",
       "<table border=\"1\" class=\"dataframe\">\n",
       "  <thead>\n",
       "    <tr style=\"text-align: right;\">\n",
       "      <th></th>\n",
       "      <th>Country</th>\n",
       "      <th>Happiness_Rank</th>\n",
       "      <th>Happiness_Score</th>\n",
       "      <th>GDP_per_Capita</th>\n",
       "      <th>Family</th>\n",
       "      <th>Health</th>\n",
       "      <th>Freedom</th>\n",
       "      <th>Government_Corruption</th>\n",
       "      <th>Generosity_Score</th>\n",
       "    </tr>\n",
       "  </thead>\n",
       "  <tbody>\n",
       "    <tr>\n",
       "      <th>0</th>\n",
       "      <td>Finland</td>\n",
       "      <td>1</td>\n",
       "      <td>7.769</td>\n",
       "      <td>1.340</td>\n",
       "      <td>1.587</td>\n",
       "      <td>0.986</td>\n",
       "      <td>0.596</td>\n",
       "      <td>0.393</td>\n",
       "      <td>0.153</td>\n",
       "    </tr>\n",
       "    <tr>\n",
       "      <th>1</th>\n",
       "      <td>Denmark</td>\n",
       "      <td>2</td>\n",
       "      <td>7.600</td>\n",
       "      <td>1.383</td>\n",
       "      <td>1.573</td>\n",
       "      <td>0.996</td>\n",
       "      <td>0.592</td>\n",
       "      <td>0.410</td>\n",
       "      <td>0.252</td>\n",
       "    </tr>\n",
       "    <tr>\n",
       "      <th>2</th>\n",
       "      <td>Norway</td>\n",
       "      <td>3</td>\n",
       "      <td>7.554</td>\n",
       "      <td>1.488</td>\n",
       "      <td>1.582</td>\n",
       "      <td>1.028</td>\n",
       "      <td>0.603</td>\n",
       "      <td>0.341</td>\n",
       "      <td>0.271</td>\n",
       "    </tr>\n",
       "    <tr>\n",
       "      <th>3</th>\n",
       "      <td>Iceland</td>\n",
       "      <td>4</td>\n",
       "      <td>7.494</td>\n",
       "      <td>1.380</td>\n",
       "      <td>1.624</td>\n",
       "      <td>1.026</td>\n",
       "      <td>0.591</td>\n",
       "      <td>0.118</td>\n",
       "      <td>0.354</td>\n",
       "    </tr>\n",
       "    <tr>\n",
       "      <th>4</th>\n",
       "      <td>Netherlands</td>\n",
       "      <td>5</td>\n",
       "      <td>7.488</td>\n",
       "      <td>1.396</td>\n",
       "      <td>1.522</td>\n",
       "      <td>0.999</td>\n",
       "      <td>0.557</td>\n",
       "      <td>0.298</td>\n",
       "      <td>0.322</td>\n",
       "    </tr>\n",
       "  </tbody>\n",
       "</table>\n",
       "</div>"
      ],
      "text/plain": [
       "       Country  Happiness_Rank  Happiness_Score  GDP_per_Capita  Family  \\\n",
       "0      Finland               1            7.769           1.340   1.587   \n",
       "1      Denmark               2            7.600           1.383   1.573   \n",
       "2       Norway               3            7.554           1.488   1.582   \n",
       "3      Iceland               4            7.494           1.380   1.624   \n",
       "4  Netherlands               5            7.488           1.396   1.522   \n",
       "\n",
       "   Health  Freedom  Government_Corruption  Generosity_Score  \n",
       "0   0.986    0.596                  0.393             0.153  \n",
       "1   0.996    0.592                  0.410             0.252  \n",
       "2   1.028    0.603                  0.341             0.271  \n",
       "3   1.026    0.591                  0.118             0.354  \n",
       "4   0.999    0.557                  0.298             0.322  "
      ]
     },
     "execution_count": 13,
     "metadata": {},
     "output_type": "execute_result"
    }
   ],
   "source": [
    "happy_2019 = happy_2019.rename(columns = {'Overall rank':'Happiness_Rank', 'Country or region':'Country', 'Score':'Happiness_Score','Generosity':'Generosity_Score', 'GDP per capita':'GDP_per_Capita', 'Social support':'Family', 'Healthy life expectancy':'Health', 'Freedom to make life choices':'Freedom', 'Perceptions of corruption':'Government_Corruption'})\n",
    "\n",
    "newhappy_2019 = happy_2019[['Country', 'Happiness_Rank', 'Happiness_Score',\"GDP_per_Capita\", 'Family', 'Health', 'Freedom', 'Government_Corruption', 'Generosity_Score']]\n",
    "newhappy_2019.head()"
   ]
  },
  {
   "cell_type": "code",
   "execution_count": 14,
   "metadata": {},
   "outputs": [
    {
     "data": {
      "text/html": [
       "<div>\n",
       "<style scoped>\n",
       "    .dataframe tbody tr th:only-of-type {\n",
       "        vertical-align: middle;\n",
       "    }\n",
       "\n",
       "    .dataframe tbody tr th {\n",
       "        vertical-align: top;\n",
       "    }\n",
       "\n",
       "    .dataframe thead th {\n",
       "        text-align: right;\n",
       "    }\n",
       "</style>\n",
       "<table border=\"1\" class=\"dataframe\">\n",
       "  <thead>\n",
       "    <tr style=\"text-align: right;\">\n",
       "      <th></th>\n",
       "      <th>Country</th>\n",
       "      <th>Happiness_Rank</th>\n",
       "      <th>Happiness_Score</th>\n",
       "      <th>GDP_per_Capita</th>\n",
       "      <th>Family</th>\n",
       "      <th>Health</th>\n",
       "      <th>Freedom</th>\n",
       "      <th>Government_Corruption</th>\n",
       "      <th>Generosity_Score</th>\n",
       "    </tr>\n",
       "  </thead>\n",
       "  <tbody>\n",
       "    <tr>\n",
       "      <th>0</th>\n",
       "      <td>Finland</td>\n",
       "      <td>1</td>\n",
       "      <td>7.8087</td>\n",
       "      <td>1.285190</td>\n",
       "      <td>1.499526</td>\n",
       "      <td>0.961271</td>\n",
       "      <td>0.662317</td>\n",
       "      <td>0.477857</td>\n",
       "      <td>0.159670</td>\n",
       "    </tr>\n",
       "    <tr>\n",
       "      <th>1</th>\n",
       "      <td>Denmark</td>\n",
       "      <td>2</td>\n",
       "      <td>7.6456</td>\n",
       "      <td>1.326949</td>\n",
       "      <td>1.503449</td>\n",
       "      <td>0.979333</td>\n",
       "      <td>0.665040</td>\n",
       "      <td>0.495260</td>\n",
       "      <td>0.242793</td>\n",
       "    </tr>\n",
       "    <tr>\n",
       "      <th>2</th>\n",
       "      <td>Switzerland</td>\n",
       "      <td>3</td>\n",
       "      <td>7.5599</td>\n",
       "      <td>1.390774</td>\n",
       "      <td>1.472403</td>\n",
       "      <td>1.040533</td>\n",
       "      <td>0.628954</td>\n",
       "      <td>0.407946</td>\n",
       "      <td>0.269056</td>\n",
       "    </tr>\n",
       "    <tr>\n",
       "      <th>3</th>\n",
       "      <td>Iceland</td>\n",
       "      <td>4</td>\n",
       "      <td>7.5045</td>\n",
       "      <td>1.326502</td>\n",
       "      <td>1.547567</td>\n",
       "      <td>1.000843</td>\n",
       "      <td>0.661981</td>\n",
       "      <td>0.144541</td>\n",
       "      <td>0.362330</td>\n",
       "    </tr>\n",
       "    <tr>\n",
       "      <th>4</th>\n",
       "      <td>Norway</td>\n",
       "      <td>5</td>\n",
       "      <td>7.4880</td>\n",
       "      <td>1.424207</td>\n",
       "      <td>1.495173</td>\n",
       "      <td>1.008072</td>\n",
       "      <td>0.670201</td>\n",
       "      <td>0.434101</td>\n",
       "      <td>0.287985</td>\n",
       "    </tr>\n",
       "  </tbody>\n",
       "</table>\n",
       "</div>"
      ],
      "text/plain": [
       "       Country  Happiness_Rank  Happiness_Score  GDP_per_Capita    Family  \\\n",
       "0      Finland               1           7.8087        1.285190  1.499526   \n",
       "1      Denmark               2           7.6456        1.326949  1.503449   \n",
       "2  Switzerland               3           7.5599        1.390774  1.472403   \n",
       "3      Iceland               4           7.5045        1.326502  1.547567   \n",
       "4       Norway               5           7.4880        1.424207  1.495173   \n",
       "\n",
       "     Health   Freedom  Government_Corruption  Generosity_Score  \n",
       "0  0.961271  0.662317               0.477857          0.159670  \n",
       "1  0.979333  0.665040               0.495260          0.242793  \n",
       "2  1.040533  0.628954               0.407946          0.269056  \n",
       "3  1.000843  0.661981               0.144541          0.362330  \n",
       "4  1.008072  0.670201               0.434101          0.287985  "
      ]
     },
     "execution_count": 14,
     "metadata": {},
     "output_type": "execute_result"
    }
   ],
   "source": [
    "# Our data for 2020 does not have ranking, so we need to create this column as our others do have this important variable.\n",
    "happy_2020['Happiness_Rank'] = happy_2020.index + 1 \n",
    "\n",
    "# The data for this year also has different values for the different scoring variables. The raw data is put in under the variable and then the weighed value for the overall score is put in under the 'Explained by:' variables.\n",
    "# We want to use those 'Explained by:' variables as they are comparable to the previous years data.\n",
    "happy_2020 = happy_2020.rename(columns = {'Country name':'Country', 'Ladder score':'Happiness_Score', 'Explained by: Log GDP per capita':'GDP_per_Capita', 'Explained by: Social support':'Family', 'Explained by: Healthy life expectancy':'Health', 'Explained by: Freedom to make life choices':'Freedom','Explained by: Generosity':'Generosity_Score', 'Explained by: Perceptions of corruption':'Government_Corruption'})\n",
    "\n",
    "# There are also some extra columns that we will not need for merging all the datasets together. Here we are only selecting the columns that we need for the clean set. \n",
    "newhappy_2020 = happy_2020[['Country', 'Happiness_Rank', 'Happiness_Score',\"GDP_per_Capita\", 'Family', 'Health', 'Freedom', 'Government_Corruption', 'Generosity_Score']]\n",
    "newhappy_2020.head()"
   ]
  },
  {
   "cell_type": "code",
   "execution_count": 15,
   "metadata": {},
   "outputs": [
    {
     "name": "stdout",
     "output_type": "stream",
     "text": [
      "     index                   Country  Happiness_Rank  Happiness_Score  \\\n",
      "0        0               Switzerland               1           7.5870   \n",
      "1        1                   Iceland               2           7.5610   \n",
      "2        2                   Denmark               3           7.5270   \n",
      "3        3                    Norway               4           7.5220   \n",
      "4        4                    Canada               5           7.4270   \n",
      "..     ...                       ...             ...              ...   \n",
      "930    148  Central African Republic             149           3.4759   \n",
      "931    149                    Rwanda             150           3.3123   \n",
      "932    150                  Zimbabwe             151           3.2992   \n",
      "933    151               South Sudan             152           2.8166   \n",
      "934    152               Afghanistan             153           2.5669   \n",
      "\n",
      "     GDP_per_Capita    Family    Health   Freedom  Government_Corruption  \\\n",
      "0          1.396510  1.349510  0.941430  0.665570               0.419780   \n",
      "1          1.302320  1.402230  0.947840  0.628770               0.141450   \n",
      "2          1.325480  1.360580  0.874640  0.649380               0.483570   \n",
      "3          1.459000  1.330950  0.885210  0.669730               0.365030   \n",
      "4          1.326290  1.322610  0.905630  0.632970               0.329570   \n",
      "..              ...       ...       ...       ...                    ...   \n",
      "930        0.041072  0.000000  0.000000  0.292814               0.028265   \n",
      "931        0.343243  0.522876  0.572383  0.604088               0.485542   \n",
      "932        0.425564  1.047835  0.375038  0.377405               0.080929   \n",
      "933        0.289083  0.553279  0.208809  0.065609               0.111157   \n",
      "934        0.300706  0.356434  0.266052  0.000000               0.001226   \n",
      "\n",
      "     Generosity_Score  \n",
      "0            0.296780  \n",
      "1            0.436300  \n",
      "2            0.341390  \n",
      "3            0.346990  \n",
      "4            0.458110  \n",
      "..                ...  \n",
      "930          0.253513  \n",
      "931          0.235705  \n",
      "932          0.151349  \n",
      "933          0.209935  \n",
      "934          0.135235  \n",
      "\n",
      "[935 rows x 10 columns]\n"
     ]
    }
   ],
   "source": [
    "dataframes = [newhappy_2015, newhappy_2016, newhappy_2017, newhappy_2018, newhappy_2019, newhappy_2020]\n",
    "full_happy = pd.concat(dataframes)\n",
    "full_happy = full_happy.reset_index()\n",
    "print(full_happy)"
   ]
  },
  {
   "cell_type": "markdown",
   "metadata": {},
   "source": [
    "Now that we have our data set combined, we can look at some early graphs to see what we are able to discern before continuing to clean the data and finding what we want to use for our models. Since this report is a yearly report that is widely used, there may not be much cleaning for filling in for missing values, but making sure we can use the data all together will be the main goal. "
   ]
  },
  {
   "cell_type": "code",
   "execution_count": 16,
   "metadata": {},
   "outputs": [
    {
     "data": {
      "image/png": "[encoded data removed]",
      "text/plain": [
       "<Figure size 432x288 with 1 Axes>"
      ]
     },
     "metadata": {
      "needs_background": "light"
     },
     "output_type": "display_data"
    }
   ],
   "source": [
    "full_happy.plot(x='GDP_per_Capita', y='Happiness_Score', style='o')  \n",
    "plt.title('Happiness Score vs GDP per Capita')  \n",
    "plt.xlabel('GDP per Capita')  \n",
    "plt.ylabel('Happiness Score')\n",
    "plt.show()"
   ]
  },
  {
   "cell_type": "code",
   "execution_count": 17,
   "metadata": {},
   "outputs": [
    {
     "data": {
      "image/png": "[encoded data removed]",
      "text/plain": [
       "<Figure size 432x288 with 1 Axes>"
      ]
     },
     "metadata": {
      "needs_background": "light"
     },
     "output_type": "display_data"
    }
   ],
   "source": [
    "full_happy.plot(x='Health', y='Happiness_Score', style='o')  \n",
    "plt.title('Happiness Score vs Health')  \n",
    "plt.xlabel('Health')  \n",
    "plt.ylabel('Happiness Score')\n",
    "plt.show()"
   ]
  },
  {
   "cell_type": "code",
   "execution_count": 18,
   "metadata": {},
   "outputs": [
    {
     "data": {
      "image/png": "[encoded data removed]",
      "text/plain": [
       "<Figure size 432x288 with 1 Axes>"
      ]
     },
     "metadata": {
      "needs_background": "light"
     },
     "output_type": "display_data"
    }
   ],
   "source": [
    "full_happy.plot(x='Generosity_Score', y='Happiness_Score', style='o')  \n",
    "plt.title('Happiness Score vs Generosity')  \n",
    "plt.xlabel('Generosity_Score')  \n",
    "plt.ylabel('Happiness Score')\n",
    "plt.show()"
   ]
  },
  {
   "cell_type": "code",
   "execution_count": 19,
   "metadata": {},
   "outputs": [
    {
     "data": {
      "image/png": "[encoded data removed]",
      "text/plain": [
       "<Figure size 432x288 with 1 Axes>"
      ]
     },
     "metadata": {
      "needs_background": "light"
     },
     "output_type": "display_data"
    }
   ],
   "source": [
    "full_happy.plot(x='Family', y='Happiness_Score', style='o')  \n",
    "plt.title('Happiness Score vs Family')  \n",
    "plt.xlabel('Generosity_Score')  \n",
    "plt.ylabel('Family Score')\n",
    "plt.show()"
   ]
  },
  {
   "cell_type": "code",
   "execution_count": 20,
   "metadata": {},
   "outputs": [
    {
     "data": {
      "image/png": "[encoded data removed]",
      "text/plain": [
       "<Figure size 1152x648 with 1 Axes>"
      ]
     },
     "metadata": {
      "needs_background": "light"
     },
     "output_type": "display_data"
    }
   ],
   "source": [
    "plt.figure(figsize=(16, 9))\n",
    "plt.hist(full_happy.GDP_per_Capita, bins = 99, color = \"blue\")\n",
    "plt.title(\"GDP Per Capita\");\n",
    "plt.xlabel(\"Score\");\n",
    "plt.ylabel(\"Count\");\n",
    "plt.plot();"
   ]
  },
  {
   "cell_type": "code",
   "execution_count": 21,
   "metadata": {},
   "outputs": [
    {
     "data": {
      "image/png": "[encoded data removed]",
      "text/plain": [
       "<Figure size 1152x648 with 1 Axes>"
      ]
     },
     "metadata": {
      "needs_background": "light"
     },
     "output_type": "display_data"
    }
   ],
   "source": [
    "plt.figure(figsize=(16, 9))\n",
    "plt.hist(full_happy.Health, bins = 99, color = \"cyan\")\n",
    "plt.title(\"Health(Life Expectancy) Score\");\n",
    "plt.xlabel(\"Score\");\n",
    "plt.ylabel(\"Count\");\n",
    "plt.plot();"
   ]
  },
  {
   "cell_type": "code",
   "execution_count": 22,
   "metadata": {},
   "outputs": [
    {
     "data": {
      "image/png": "[encoded data removed]",
      "text/plain": [
       "<Figure size 1152x648 with 1 Axes>"
      ]
     },
     "metadata": {
      "needs_background": "light"
     },
     "output_type": "display_data"
    }
   ],
   "source": [
    "plt.figure(figsize=(16, 9))\n",
    "plt.hist(full_happy.Generosity_Score, bins = 99, color = \"purple\")\n",
    "plt.title(\"Generosity Score\");\n",
    "plt.xlabel(\"Score\");\n",
    "plt.ylabel(\"Count\");\n",
    "plt.plot();"
   ]
  },
  {
   "cell_type": "code",
   "execution_count": 23,
   "metadata": {},
   "outputs": [
    {
     "data": {
      "image/png": "[encoded data removed]",
      "text/plain": [
       "<Figure size 1152x720 with 4 Axes>"
      ]
     },
     "metadata": {
      "needs_background": "light"
     },
     "output_type": "display_data"
    }
   ],
   "source": [
    "\n",
    "fig, ((ax1,ax2),(ax3,ax4)) = plt.subplots(2, 2, figsize=(16,10))\n",
    "ax1.hist(full_happy['GDP_per_Capita'], bins = 25)\n",
    "ax1.title.set_text('Histogram of GPD per Capita')\n",
    "\n",
    "ax2.hist(full_happy['Health'], bins = 50)\n",
    "ax2.title.set_text(\"Histogram of Health (Life Expectancy)\")\n",
    "\n",
    "ax3.hist(full_happy['Generosity_Score'], bins = 25)\n",
    "ax3.title.set_text('Histogram of Generosity Score')\n",
    "\n",
    "ax4.hist(full_happy['Family'], bins = 25)\n",
    "ax4.title.set_text('Histogram of Family Score')\n"
   ]
  },
  {
   "cell_type": "markdown",
   "metadata": {},
   "source": [
    "These graphs give us a visual of how certain factors compare with the overall happiness score. From the scatter plots, we can see there are some correlations already. We can do a correlation map to see even more. "
   ]
  },
  {
   "cell_type": "code",
   "execution_count": 24,
   "metadata": {},
   "outputs": [
    {
     "data": {
      "text/html": [
       "<div>\n",
       "<style scoped>\n",
       "    .dataframe tbody tr th:only-of-type {\n",
       "        vertical-align: middle;\n",
       "    }\n",
       "\n",
       "    .dataframe tbody tr th {\n",
       "        vertical-align: top;\n",
       "    }\n",
       "\n",
       "    .dataframe thead th {\n",
       "        text-align: right;\n",
       "    }\n",
       "</style>\n",
       "<table border=\"1\" class=\"dataframe\">\n",
       "  <thead>\n",
       "    <tr style=\"text-align: right;\">\n",
       "      <th></th>\n",
       "      <th>index</th>\n",
       "      <th>Happiness_Rank</th>\n",
       "      <th>Happiness_Score</th>\n",
       "      <th>GDP_per_Capita</th>\n",
       "      <th>Family</th>\n",
       "      <th>Health</th>\n",
       "      <th>Freedom</th>\n",
       "      <th>Government_Corruption</th>\n",
       "      <th>Generosity_Score</th>\n",
       "    </tr>\n",
       "  </thead>\n",
       "  <tbody>\n",
       "    <tr>\n",
       "      <th>index</th>\n",
       "      <td>1.000000</td>\n",
       "      <td>0.999999</td>\n",
       "      <td>-0.998280</td>\n",
       "      <td>-0.803609</td>\n",
       "      <td>-0.665764</td>\n",
       "      <td>-0.759235</td>\n",
       "      <td>-0.546732</td>\n",
       "      <td>-0.275025</td>\n",
       "      <td>-0.110363</td>\n",
       "    </tr>\n",
       "    <tr>\n",
       "      <th>Happiness_Rank</th>\n",
       "      <td>0.999999</td>\n",
       "      <td>1.000000</td>\n",
       "      <td>-0.998279</td>\n",
       "      <td>-0.803637</td>\n",
       "      <td>-0.665682</td>\n",
       "      <td>-0.759244</td>\n",
       "      <td>-0.546657</td>\n",
       "      <td>-0.275019</td>\n",
       "      <td>-0.110400</td>\n",
       "    </tr>\n",
       "    <tr>\n",
       "      <th>Happiness_Score</th>\n",
       "      <td>-0.998280</td>\n",
       "      <td>-0.998279</td>\n",
       "      <td>1.000000</td>\n",
       "      <td>0.801433</td>\n",
       "      <td>0.665561</td>\n",
       "      <td>0.764850</td>\n",
       "      <td>0.548586</td>\n",
       "      <td>0.274696</td>\n",
       "      <td>0.110160</td>\n",
       "    </tr>\n",
       "    <tr>\n",
       "      <th>GDP_per_Capita</th>\n",
       "      <td>-0.803609</td>\n",
       "      <td>-0.803637</td>\n",
       "      <td>0.801433</td>\n",
       "      <td>1.000000</td>\n",
       "      <td>0.604700</td>\n",
       "      <td>0.790142</td>\n",
       "      <td>0.362238</td>\n",
       "      <td>0.223193</td>\n",
       "      <td>-0.009274</td>\n",
       "    </tr>\n",
       "    <tr>\n",
       "      <th>Family</th>\n",
       "      <td>-0.665764</td>\n",
       "      <td>-0.665682</td>\n",
       "      <td>0.665561</td>\n",
       "      <td>0.604700</td>\n",
       "      <td>1.000000</td>\n",
       "      <td>0.616856</td>\n",
       "      <td>0.446754</td>\n",
       "      <td>0.061301</td>\n",
       "      <td>-0.048266</td>\n",
       "    </tr>\n",
       "    <tr>\n",
       "      <th>Health</th>\n",
       "      <td>-0.759235</td>\n",
       "      <td>-0.759244</td>\n",
       "      <td>0.764850</td>\n",
       "      <td>0.790142</td>\n",
       "      <td>0.616856</td>\n",
       "      <td>1.000000</td>\n",
       "      <td>0.388088</td>\n",
       "      <td>0.165229</td>\n",
       "      <td>-0.012318</td>\n",
       "    </tr>\n",
       "    <tr>\n",
       "      <th>Freedom</th>\n",
       "      <td>-0.546732</td>\n",
       "      <td>-0.546657</td>\n",
       "      <td>0.548586</td>\n",
       "      <td>0.362238</td>\n",
       "      <td>0.446754</td>\n",
       "      <td>0.388088</td>\n",
       "      <td>1.000000</td>\n",
       "      <td>0.415933</td>\n",
       "      <td>0.311099</td>\n",
       "    </tr>\n",
       "    <tr>\n",
       "      <th>Government_Corruption</th>\n",
       "      <td>-0.275025</td>\n",
       "      <td>-0.275019</td>\n",
       "      <td>0.274696</td>\n",
       "      <td>0.223193</td>\n",
       "      <td>0.061301</td>\n",
       "      <td>0.165229</td>\n",
       "      <td>0.415933</td>\n",
       "      <td>1.000000</td>\n",
       "      <td>0.265325</td>\n",
       "    </tr>\n",
       "    <tr>\n",
       "      <th>Generosity_Score</th>\n",
       "      <td>-0.110363</td>\n",
       "      <td>-0.110400</td>\n",
       "      <td>0.110160</td>\n",
       "      <td>-0.009274</td>\n",
       "      <td>-0.048266</td>\n",
       "      <td>-0.012318</td>\n",
       "      <td>0.311099</td>\n",
       "      <td>0.265325</td>\n",
       "      <td>1.000000</td>\n",
       "    </tr>\n",
       "  </tbody>\n",
       "</table>\n",
       "</div>"
      ],
      "text/plain": [
       "                          index  Happiness_Rank  Happiness_Score  \\\n",
       "index                  1.000000        0.999999        -0.998280   \n",
       "Happiness_Rank         0.999999        1.000000        -0.998279   \n",
       "Happiness_Score       -0.998280       -0.998279         1.000000   \n",
       "GDP_per_Capita        -0.803609       -0.803637         0.801433   \n",
       "Family                -0.665764       -0.665682         0.665561   \n",
       "Health                -0.759235       -0.759244         0.764850   \n",
       "Freedom               -0.546732       -0.546657         0.548586   \n",
       "Government_Corruption -0.275025       -0.275019         0.274696   \n",
       "Generosity_Score      -0.110363       -0.110400         0.110160   \n",
       "\n",
       "                       GDP_per_Capita    Family    Health   Freedom  \\\n",
       "index                       -0.803609 -0.665764 -0.759235 -0.546732   \n",
       "Happiness_Rank              -0.803637 -0.665682 -0.759244 -0.546657   \n",
       "Happiness_Score              0.801433  0.665561  0.764850  0.548586   \n",
       "GDP_per_Capita               1.000000  0.604700  0.790142  0.362238   \n",
       "Family                       0.604700  1.000000  0.616856  0.446754   \n",
       "Health                       0.790142  0.616856  1.000000  0.388088   \n",
       "Freedom                      0.362238  0.446754  0.388088  1.000000   \n",
       "Government_Corruption        0.223193  0.061301  0.165229  0.415933   \n",
       "Generosity_Score            -0.009274 -0.048266 -0.012318  0.311099   \n",
       "\n",
       "                       Government_Corruption  Generosity_Score  \n",
       "index                              -0.275025         -0.110363  \n",
       "Happiness_Rank                     -0.275019         -0.110400  \n",
       "Happiness_Score                     0.274696          0.110160  \n",
       "GDP_per_Capita                      0.223193         -0.009274  \n",
       "Family                              0.061301         -0.048266  \n",
       "Health                              0.165229         -0.012318  \n",
       "Freedom                             0.415933          0.311099  \n",
       "Government_Corruption               1.000000          0.265325  \n",
       "Generosity_Score                    0.265325          1.000000  "
      ]
     },
     "execution_count": 24,
     "metadata": {},
     "output_type": "execute_result"
    }
   ],
   "source": [
    "# Spearman's correlation also works better for data with more non-linear relationships, so we will use \n",
    "# Spearman's correlation to try and look closer at our data and the relationships.\n",
    "\n",
    "spearman_cormatrix= full_happy.corr(method='spearman')\n",
    "spearman_cormatrix"
   ]
  },
  {
   "cell_type": "code",
   "execution_count": 25,
   "metadata": {},
   "outputs": [
    {
     "data": {
      "image/png": "[encoded data removed]",
      "text/plain": [
       "<Figure size 1296x720 with 2 Axes>"
      ]
     },
     "metadata": {
      "needs_background": "light"
     },
     "output_type": "display_data"
    }
   ],
   "source": [
    "plt.figure(figsize=(18,10))\n",
    "ax = sns.heatmap(spearman_cormatrix, vmin=-1, vmax=1, \n",
    "            center=0, cmap=\"coolwarm\", annot=True)\n",
    "bottom, top = ax.get_ylim()\n",
    "ax.set_ylim(bottom + 0.5, top - 0.5);\n",
    "plt.title(\"Continuous Matrix of Spearman Correlation\");"
   ]
  },
  {
   "cell_type": "markdown",
   "metadata": {},
   "source": [
    "Here, we can see all the values and which ones have the strongest correleations and which do not have much of an impact on the overall happiness score. This can help us to see what might have the strongest impact on the happiness score when creating the prediction model. "
   ]
  },
  {
   "cell_type": "markdown",
   "metadata": {},
   "source": [
    "After the inital analysis, we can see that some values do have more correlation with the overall happiness score, but we can see that some values, while not heavy correlated, could still have an impact, so we will want to keep those values in when working with the data to get the overall picture. But the country and the happiness rank are not needed for the model and further analysis, since we will just be looking at the relationship between the data for our model so we can drop those columns. Depending on the analysis that is being done, keeping the country may be important, but for this analysis, we will drop it as it should not have an effect on the data.\n",
    "\n",
    "Now that we have cleaned up our data set a bit more, we can look into the data and the happiness scores a bit further. One thing that can help us to gain some insight will be binning the data. We can take the overall happiness scores and see how it avarages out across the dataset."
   ]
  },
  {
   "cell_type": "code",
   "execution_count": 26,
   "metadata": {},
   "outputs": [
    {
     "data": {
      "text/plain": [
       "array([2.56690001, 4.3141667 , 6.06143339, 7.80870008])"
      ]
     },
     "execution_count": 26,
     "metadata": {},
     "output_type": "execute_result"
    }
   ],
   "source": [
    "# Use NumPy's linspace to partition the values into three categories\n",
    "\n",
    "happy_bin = np.linspace(min(full_happy[\"Happiness_Score\"]), max(full_happy[\"Happiness_Score\"]), 4)\n",
    "happy_bin"
   ]
  },
  {
   "cell_type": "code",
   "execution_count": 27,
   "metadata": {},
   "outputs": [],
   "source": [
    "# We will create names for our bins of low,medium, and high to bin the happiness scores. \n",
    "bins = [\"Low\", \"Medium\", \"High\"]\n",
    "\n"
   ]
  },
  {
   "cell_type": "code",
   "execution_count": 28,
   "metadata": {},
   "outputs": [
    {
     "name": "stdout",
     "output_type": "stream",
     "text": [
      "     Happiness_Score binned\n",
      "0             7.5870   High\n",
      "1             7.5610   High\n",
      "2             7.5270   High\n",
      "3             7.5220   High\n",
      "4             7.4270   High\n",
      "..               ...    ...\n",
      "930           3.4759    Low\n",
      "931           3.3123    Low\n",
      "932           3.2992    Low\n",
      "933           2.8166    Low\n",
      "934           2.5669    Low\n",
      "\n",
      "[935 rows x 2 columns]\n"
     ]
    }
   ],
   "source": [
    "full_happy[\"binned\"] = pd.cut(full_happy[\"Happiness_Score\"], happy_bin, labels=bins, include_lowest=True)\n",
    "\n",
    "print(full_happy[[\"Happiness_Score\", \"binned\"]])"
   ]
  },
  {
   "cell_type": "code",
   "execution_count": 29,
   "metadata": {},
   "outputs": [
    {
     "data": {
      "text/plain": [
       "Text(0.5, 1.0, 'Happiness Bins')"
      ]
     },
     "execution_count": 29,
     "metadata": {},
     "output_type": "execute_result"
    },
    {
     "data": {
      "image/png": "[encoded data removed]",
      "text/plain": [
       "<Figure size 432x288 with 1 Axes>"
      ]
     },
     "metadata": {
      "needs_background": "light"
     },
     "output_type": "display_data"
    }
   ],
   "source": [
    "# Create a visualization of our results from the binning process\n",
    "\n",
    "plt.bar(bins, full_happy[\"binned\"].value_counts())\n",
    "\n",
    "# Add labels and a title\n",
    "\n",
    "plt.xlabel(\"Happiness Score\")\n",
    "plt.ylabel(\"Count\")\n",
    "plt.title(\"Happiness Bins\")"
   ]
  },
  {
   "cell_type": "markdown",
   "metadata": {},
   "source": [
    "We can see from our graph that there are a lot more countries in the Low bin versus the High bin for happiness score, so this tells us that the number of high ranking happiness scores in the data is not as common as low scores are."
   ]
  },
  {
   "cell_type": "markdown",
   "metadata": {},
   "source": [
    "Now we can look at how some of the variables relate to each other."
   ]
  },
  {
   "cell_type": "code",
   "execution_count": 30,
   "metadata": {},
   "outputs": [
    {
     "data": {
      "text/plain": [
       "(0.0, 1.2951276991407534)"
      ]
     },
     "execution_count": 30,
     "metadata": {},
     "output_type": "execute_result"
    },
    {
     "data": {
      "image/png": "[encoded data removed]",
      "text/plain": [
       "<Figure size 432x288 with 1 Axes>"
      ]
     },
     "metadata": {
      "needs_background": "light"
     },
     "output_type": "display_data"
    }
   ],
   "source": [
    "# Scatterplot of GDP and Health.Both of these variables are strongly correlated with the overall happiness score, but\n",
    "# how much are they related?\n",
    "\n",
    "sns.regplot(x = \"GDP_per_Capita\", y = \"Health\", data = full_happy)\n",
    "plt.ylim(0,)"
   ]
  },
  {
   "cell_type": "code",
   "execution_count": 31,
   "metadata": {},
   "outputs": [
    {
     "data": {
      "text/html": [
       "<div>\n",
       "<style scoped>\n",
       "    .dataframe tbody tr th:only-of-type {\n",
       "        vertical-align: middle;\n",
       "    }\n",
       "\n",
       "    .dataframe tbody tr th {\n",
       "        vertical-align: top;\n",
       "    }\n",
       "\n",
       "    .dataframe thead th {\n",
       "        text-align: right;\n",
       "    }\n",
       "</style>\n",
       "<table border=\"1\" class=\"dataframe\">\n",
       "  <thead>\n",
       "    <tr style=\"text-align: right;\">\n",
       "      <th></th>\n",
       "      <th>GDP_per_Capita</th>\n",
       "      <th>Health</th>\n",
       "    </tr>\n",
       "  </thead>\n",
       "  <tbody>\n",
       "    <tr>\n",
       "      <th>GDP_per_Capita</th>\n",
       "      <td>1.000000</td>\n",
       "      <td>0.782037</td>\n",
       "    </tr>\n",
       "    <tr>\n",
       "      <th>Health</th>\n",
       "      <td>0.782037</td>\n",
       "      <td>1.000000</td>\n",
       "    </tr>\n",
       "  </tbody>\n",
       "</table>\n",
       "</div>"
      ],
      "text/plain": [
       "                GDP_per_Capita    Health\n",
       "GDP_per_Capita        1.000000  0.782037\n",
       "Health                0.782037  1.000000"
      ]
     },
     "execution_count": 31,
     "metadata": {},
     "output_type": "execute_result"
    }
   ],
   "source": [
    "full_happy[[\"GDP_per_Capita\", \"Health\"]].corr()\n",
    "\n"
   ]
  },
  {
   "cell_type": "markdown",
   "metadata": {},
   "source": [
    "This shows that Health and GDP scores in the data do have a correlation, backing up what our heatmap earlier showed us.\n",
    "\n",
    "GDP and Health do have a correlation together of 78%. That is not an astoundingly strong correlation but it does give us insight that the higher a countries GDP score is, the higher the life expectancy and overall health is of the citizens. Let's look at a few more. "
   ]
  },
  {
   "cell_type": "code",
   "execution_count": 32,
   "metadata": {},
   "outputs": [
    {
     "data": {
      "text/plain": [
       "(0.0, 0.7602000000000001)"
      ]
     },
     "execution_count": 32,
     "metadata": {},
     "output_type": "execute_result"
    },
    {
     "data": {
      "image/png": "[encoded data removed]",
      "text/plain": [
       "<Figure size 432x288 with 1 Axes>"
      ]
     },
     "metadata": {
      "needs_background": "light"
     },
     "output_type": "display_data"
    }
   ],
   "source": [
    "sns.regplot(x = \"Health\", y = \"Freedom\", data = full_happy)\n",
    "plt.ylim(0,)"
   ]
  },
  {
   "cell_type": "code",
   "execution_count": 33,
   "metadata": {},
   "outputs": [
    {
     "data": {
      "text/html": [
       "<div>\n",
       "<style scoped>\n",
       "    .dataframe tbody tr th:only-of-type {\n",
       "        vertical-align: middle;\n",
       "    }\n",
       "\n",
       "    .dataframe tbody tr th {\n",
       "        vertical-align: top;\n",
       "    }\n",
       "\n",
       "    .dataframe thead th {\n",
       "        text-align: right;\n",
       "    }\n",
       "</style>\n",
       "<table border=\"1\" class=\"dataframe\">\n",
       "  <thead>\n",
       "    <tr style=\"text-align: right;\">\n",
       "      <th></th>\n",
       "      <th>Health</th>\n",
       "      <th>Freedom</th>\n",
       "    </tr>\n",
       "  </thead>\n",
       "  <tbody>\n",
       "    <tr>\n",
       "      <th>Health</th>\n",
       "      <td>1.000000</td>\n",
       "      <td>0.367014</td>\n",
       "    </tr>\n",
       "    <tr>\n",
       "      <th>Freedom</th>\n",
       "      <td>0.367014</td>\n",
       "      <td>1.000000</td>\n",
       "    </tr>\n",
       "  </tbody>\n",
       "</table>\n",
       "</div>"
      ],
      "text/plain": [
       "           Health   Freedom\n",
       "Health   1.000000  0.367014\n",
       "Freedom  0.367014  1.000000"
      ]
     },
     "execution_count": 33,
     "metadata": {},
     "output_type": "execute_result"
    }
   ],
   "source": [
    "full_happy[[\"Health\", \"Freedom\"]].corr()\n",
    "\n"
   ]
  },
  {
   "cell_type": "markdown",
   "metadata": {},
   "source": [
    "As we can see from the graph and the chart, Health and Freedom do not have a strong correlation, only 37%."
   ]
  },
  {
   "cell_type": "markdown",
   "metadata": {},
   "source": [
    "We can see that some of the factors do have a correlations with each other, but we want to really look at their relationship with the overall happiness score and which values can be used to make the best predictions based on the previous years data. "
   ]
  },
  {
   "cell_type": "code",
   "execution_count": 34,
   "metadata": {},
   "outputs": [],
   "source": [
    "# Importing libraries to build a linear regression model.\n",
    "\n",
    "from sklearn.linear_model import LinearRegression\n",
    "\n",
    "\n",
    "from sklearn.model_selection import train_test_split, cross_val_score\n",
    "from sklearn.metrics import mean_squared_error\n",
    "from numpy import mean, std\n",
    "\n"
   ]
  },
  {
   "cell_type": "code",
   "execution_count": 35,
   "metadata": {},
   "outputs": [
    {
     "data": {
      "text/plain": [
       "(935, 6)"
      ]
     },
     "execution_count": 35,
     "metadata": {},
     "output_type": "execute_result"
    }
   ],
   "source": [
    "X= full_happy[['GDP_per_Capita','Family','Health', 'Freedom', 'Government_Corruption', 'Generosity_Score']]\n",
    "X.shape"
   ]
  },
  {
   "cell_type": "code",
   "execution_count": 36,
   "metadata": {},
   "outputs": [
    {
     "data": {
      "text/plain": [
       "(935, 1)"
      ]
     },
     "execution_count": 36,
     "metadata": {},
     "output_type": "execute_result"
    }
   ],
   "source": [
    "y=full_happy[['Happiness_Score']]\n",
    "y.shape"
   ]
  },
  {
   "cell_type": "code",
   "execution_count": 37,
   "metadata": {},
   "outputs": [],
   "source": [
    "full_happy = full_happy.reset_index()\n",
    "\n"
   ]
  },
  {
   "cell_type": "code",
   "execution_count": 38,
   "metadata": {},
   "outputs": [
    {
     "data": {
      "text/plain": [
       "level_0                  0\n",
       "index                    0\n",
       "Country                  0\n",
       "Happiness_Rank           0\n",
       "Happiness_Score          0\n",
       "GDP_per_Capita           0\n",
       "Family                   0\n",
       "Health                   0\n",
       "Freedom                  0\n",
       "Government_Corruption    1\n",
       "Generosity_Score         0\n",
       "binned                   0\n",
       "dtype: int64"
      ]
     },
     "execution_count": 38,
     "metadata": {},
     "output_type": "execute_result"
    }
   ],
   "source": [
    "# This will check our data for missing values. \n",
    "\n",
    "full_happy.isnull().sum()\n",
    "\n"
   ]
  },
  {
   "cell_type": "code",
   "execution_count": 39,
   "metadata": {},
   "outputs": [
    {
     "name": "stdout",
     "output_type": "stream",
     "text": [
      "level_0 : 0.00%\n",
      "index : 0.00%\n",
      "Country : 0.00%\n",
      "Happiness_Rank : 0.00%\n",
      "Happiness_Score : 0.00%\n",
      "GDP_per_Capita : 0.00%\n",
      "Family : 0.00%\n",
      "Health : 0.00%\n",
      "Freedom : 0.00%\n",
      "Government_Corruption : 0.11%\n",
      "Generosity_Score : 0.00%\n",
      "binned : 0.00%\n"
     ]
    }
   ],
   "source": [
    "for col in full_happy.columns:\n",
    "  print(col,  ': %.2f%%' %((full_happy[col].isnull().sum()/full_happy.shape[0])*100))"
   ]
  },
  {
   "cell_type": "markdown",
   "metadata": {},
   "source": [
    "As we can see, we do not have many missing values at all (only one in Government Corruption), so this should not affect the models too much. This is not surprising as this data has become highly standard over the last few years since so many use it."
   ]
  },
  {
   "cell_type": "code",
   "execution_count": 40,
   "metadata": {},
   "outputs": [],
   "source": [
    "# Splitting the data to training and testing sets\n",
    "\n",
    "X_train, X_test, y_train, y_test = train_test_split(X,y, random_state=42)\n",
    "\n"
   ]
  },
  {
   "cell_type": "code",
   "execution_count": 41,
   "metadata": {},
   "outputs": [],
   "source": [
    "# This will fill that missing value with the mean of the data for that column.\n",
    "\n",
    "X_train = X_train.fillna(X_train.mean())\n",
    "\n",
    "\n"
   ]
  },
  {
   "cell_type": "markdown",
   "metadata": {},
   "source": [
    "<b> Linear Regression</b>"
   ]
  },
  {
   "cell_type": "code",
   "execution_count": 42,
   "metadata": {},
   "outputs": [
    {
     "name": "stdout",
     "output_type": "stream",
     "text": [
      "Training R2: 0.7521051525813867\n",
      "Test R2:\n",
      "0.7607134172909658\n"
     ]
    }
   ],
   "source": [
    "# Getting the R2 cross score from our training sets.\n",
    "\n",
    "lr= LinearRegression()\n",
    "\n",
    "lr.fit(X_train, y_train)\n",
    "y_predict= lr.predict(X_test)\n",
    "\n",
    "\n",
    "lr_scores=cross_val_score(lr,X_train,y_train,scoring='r2',cv=5)\n",
    "lr_scores\n",
    "print('Training R2:',np.mean(lr_scores))\n",
    "\n",
    "# Getting the R2 score from our test sets.\n",
    "\n",
    "print(\"Test R2:\")\n",
    "print(lr.score(X_test, y_test))"
   ]
  },
  {
   "cell_type": "markdown",
   "metadata": {},
   "source": [
    "The test and train score for the linear regression model are close at 75% for train and 77% for test.\n"
   ]
  },
  {
   "cell_type": "markdown",
   "metadata": {},
   "source": [
    "<b>Random Forest</b>\n"
   ]
  },
  {
   "cell_type": "code",
   "execution_count": 43,
   "metadata": {},
   "outputs": [],
   "source": [
    "# Importing additional library for Random Forest\n",
    "\n",
    "from sklearn.ensemble import RandomForestRegressor"
   ]
  },
  {
   "cell_type": "code",
   "execution_count": 44,
   "metadata": {},
   "outputs": [
    {
     "data": {
      "text/plain": [
       "RandomForestRegressor(n_estimators=10)"
      ]
     },
     "execution_count": 44,
     "metadata": {},
     "output_type": "execute_result"
    }
   ],
   "source": [
    "rfr=RandomForestRegressor(n_estimators=10)\n",
    "\n",
    "rfr.fit(X_train, np.ravel(y_train,order='C'))"
   ]
  },
  {
   "cell_type": "code",
   "execution_count": 45,
   "metadata": {},
   "outputs": [],
   "source": [
    "y_train_pred = rfr.predict(X_train)\n",
    "y_test_pred = rfr.predict(X_test)"
   ]
  },
  {
   "cell_type": "code",
   "execution_count": 46,
   "metadata": {},
   "outputs": [
    {
     "name": "stdout",
     "output_type": "stream",
     "text": [
      "Goodness of Fit of Model \tTrain Dataset\n",
      "Explained Variance (R^2) \t: 0.9633882105707343\n",
      "Mean Squared Error (MSE) \t: 0.04675885676737219\n",
      "\n"
     ]
    }
   ],
   "source": [
    "# Check the Goodness of Fit (on Train Data)\n",
    "print(\"Goodness of Fit of Model \\tTrain Dataset\")\n",
    "print(\"Explained Variance (R^2) \\t:\", rfr.score(X_train, y_train))\n",
    "print(\"Mean Squared Error (MSE) \\t:\", mean_squared_error(y_train, y_train_pred))\n",
    "print()"
   ]
  },
  {
   "cell_type": "code",
   "execution_count": 47,
   "metadata": {},
   "outputs": [
    {
     "name": "stdout",
     "output_type": "stream",
     "text": [
      "Goodness of Fit of Model \tTest Dataset\n",
      "Explained Variance (R^2) \t: 0.7989974149135673\n",
      "Mean Squared Error (MSE) \t: 0.24621401801578488\n",
      "\n"
     ]
    }
   ],
   "source": [
    "# Check the Goodness of Fit (on Test Data)\n",
    "print(\"Goodness of Fit of Model \\tTest Dataset\")\n",
    "print(\"Explained Variance (R^2) \\t:\", rfr.score(X_test, y_test))\n",
    "print(\"Mean Squared Error (MSE) \\t:\", mean_squared_error(y_test, y_test_pred))\n",
    "print()"
   ]
  },
  {
   "cell_type": "markdown",
   "metadata": {},
   "source": [
    "The train set (R2= 96) for Random Forest performed significantly better than the test set(R2= 77). This score is very close to the Linear Regression score.\n",
    "\n",
    "We can see if adding more trees improves the score."
   ]
  },
  {
   "cell_type": "code",
   "execution_count": 48,
   "metadata": {},
   "outputs": [
    {
     "data": {
      "text/plain": [
       "RandomForestRegressor()"
      ]
     },
     "execution_count": 48,
     "metadata": {},
     "output_type": "execute_result"
    }
   ],
   "source": [
    "# Here we will set our Random Forest model to run with 100 trees. Typically, the more trees, the better the \n",
    "# results so we can see if more trees helps our model to improve. \n",
    "\n",
    "rfr2=RandomForestRegressor(n_estimators=100)\n",
    "\n",
    "rfr2.fit(X_train, np.ravel(y_train,order='C'))"
   ]
  },
  {
   "cell_type": "code",
   "execution_count": 49,
   "metadata": {},
   "outputs": [],
   "source": [
    "y_train2_pred = rfr2.predict(X_train)\n",
    "y_test2_pred = rfr2.predict(X_test)"
   ]
  },
  {
   "cell_type": "code",
   "execution_count": 50,
   "metadata": {},
   "outputs": [
    {
     "name": "stdout",
     "output_type": "stream",
     "text": [
      "Fit of Model             \tTraining Set\n",
      "R^2 Score)               \t: 0.9740097890539225\n",
      "Mean Squared Error (MSE) \t: 0.033193475924724845\n",
      "\n"
     ]
    }
   ],
   "source": [
    "# Checking the fit of the model on training set\n",
    "print(\"Fit of Model             \\tTraining Set\")\n",
    "print(\"R^2 Score)               \\t:\", rfr2.score(X_train, y_train))\n",
    "print(\"Mean Squared Error (MSE) \\t:\", mean_squared_error(y_train, y_train2_pred))\n",
    "print()"
   ]
  },
  {
   "cell_type": "code",
   "execution_count": 51,
   "metadata": {},
   "outputs": [
    {
     "name": "stdout",
     "output_type": "stream",
     "text": [
      "Fit of Model             \tTest Set\n",
      "R^2 Score                \t: 0.8182848019527986\n",
      "Mean Squared Error (MSE) \t: 0.22258832654563449\n",
      "\n"
     ]
    }
   ],
   "source": [
    "# Check the Goodness of Fit (on Test Data)\n",
    "print(\"Fit of Model             \\tTest Set\")\n",
    "print(\"R^2 Score                \\t:\", rfr2.score(X_test, y_test))\n",
    "print(\"Mean Squared Error (MSE) \\t:\", mean_squared_error(y_test, y_test2_pred))\n",
    "print()"
   ]
  },
  {
   "cell_type": "markdown",
   "metadata": {},
   "source": [
    "We can see that by adding more trees, our model did improve ( Training= 97 and Test= 82), though the training and test results are still skewed. Random forest regression is great for classification and regression, but it does have some limitations and is not the best when looking to extrapolate unknown values using predicitive analytics. This may be why our training and testing scores vary so much.\n"
   ]
  },
  {
   "cell_type": "code",
   "execution_count": 52,
   "metadata": {},
   "outputs": [],
   "source": [
    "# Here we will set our Random Forest model to run with 10000 trees. Typically, the more trees, the better the \n",
    "# results so we can see if more trees helps our model to improve. \n",
    "\n",
    "rfr3=RandomForestRegressor(n_estimators=10000)\n",
    "\n",
    "rf_model= rfr3.fit(X_train, np.ravel(y_train,order='C'))\n",
    "\n",
    "\n",
    "\n"
   ]
  },
  {
   "cell_type": "code",
   "execution_count": 53,
   "metadata": {},
   "outputs": [],
   "source": [
    "y_train3_pred = rfr3.predict(X_train)\n",
    "y_test3_pred = rfr3.predict(X_test)"
   ]
  },
  {
   "cell_type": "code",
   "execution_count": 54,
   "metadata": {},
   "outputs": [
    {
     "name": "stdout",
     "output_type": "stream",
     "text": [
      "Fit of Model             \tTraining Set\n",
      "R^2 Score)               \t: 0.9748209369859469\n",
      "Mean Squared Error (MSE) \t: 0.032157515908513255\n",
      "\n"
     ]
    }
   ],
   "source": [
    "# Checking the fit of the model on training set\n",
    "print(\"Fit of Model             \\tTraining Set\")\n",
    "print(\"R^2 Score)               \\t:\", rfr3.score(X_train, y_train))\n",
    "print(\"Mean Squared Error (MSE) \\t:\", mean_squared_error(y_train, y_train3_pred))\n",
    "print()"
   ]
  },
  {
   "cell_type": "code",
   "execution_count": 55,
   "metadata": {},
   "outputs": [
    {
     "name": "stdout",
     "output_type": "stream",
     "text": [
      "Fit of Model             \tTest Set\n",
      "R^2 Score                \t: 0.8220265668407188\n",
      "Mean Squared Error (MSE) \t: 0.21800492794342713\n",
      "\n"
     ]
    }
   ],
   "source": [
    "# Check the Goodness of Fit (on Test Data)\n",
    "print(\"Fit of Model             \\tTest Set\")\n",
    "print(\"R^2 Score                \\t:\", rfr3.score(X_test, y_test))\n",
    "print(\"Mean Squared Error (MSE) \\t:\", mean_squared_error(y_test, y_test3_pred))\n",
    "print()"
   ]
  },
  {
   "cell_type": "markdown",
   "metadata": {},
   "source": [
    "Adding more trees did not improve the test score by much (81% accuracy with 100 vs 82% accuracy with 10,000), but even still, Random Forest has still has performed better than the linear regression model so this Random Forest model is what I will be using for the happiness score predictions. We can use these test scores to see how the predicted scores compare to the actual scores. "
   ]
  },
  {
   "cell_type": "code",
   "execution_count": 56,
   "metadata": {},
   "outputs": [],
   "source": [
    "rf_model.fit(X_train,y_train.values.ravel())\n",
    "y_pred_rf = rf_model.predict(X_test)\n"
   ]
  },
  {
   "cell_type": "code",
   "execution_count": 57,
   "metadata": {},
   "outputs": [],
   "source": [
    "comp_rf = pd.DataFrame(y_test)\n",
    "comp_rf['RF Predicted Score']= y_pred_rf"
   ]
  },
  {
   "cell_type": "code",
   "execution_count": 58,
   "metadata": {},
   "outputs": [
    {
     "data": {
      "text/html": [
       "<div>\n",
       "<style scoped>\n",
       "    .dataframe tbody tr th:only-of-type {\n",
       "        vertical-align: middle;\n",
       "    }\n",
       "\n",
       "    .dataframe tbody tr th {\n",
       "        vertical-align: top;\n",
       "    }\n",
       "\n",
       "    .dataframe thead th {\n",
       "        text-align: right;\n",
       "    }\n",
       "</style>\n",
       "<table border=\"1\" class=\"dataframe\">\n",
       "  <thead>\n",
       "    <tr style=\"text-align: right;\">\n",
       "      <th></th>\n",
       "      <th>Actual Happiness Score</th>\n",
       "      <th>RF Predicted Score</th>\n",
       "    </tr>\n",
       "  </thead>\n",
       "  <tbody>\n",
       "    <tr>\n",
       "      <th>321</th>\n",
       "      <td>7.3160</td>\n",
       "      <td>7.188211</td>\n",
       "    </tr>\n",
       "    <tr>\n",
       "      <th>70</th>\n",
       "      <td>5.4770</td>\n",
       "      <td>5.317565</td>\n",
       "    </tr>\n",
       "    <tr>\n",
       "      <th>209</th>\n",
       "      <td>5.9560</td>\n",
       "      <td>4.735064</td>\n",
       "    </tr>\n",
       "    <tr>\n",
       "      <th>549</th>\n",
       "      <td>5.3580</td>\n",
       "      <td>5.840924</td>\n",
       "    </tr>\n",
       "    <tr>\n",
       "      <th>712</th>\n",
       "      <td>5.2470</td>\n",
       "      <td>5.538325</td>\n",
       "    </tr>\n",
       "    <tr>\n",
       "      <th>96</th>\n",
       "      <td>4.8980</td>\n",
       "      <td>4.380109</td>\n",
       "    </tr>\n",
       "    <tr>\n",
       "      <th>467</th>\n",
       "      <td>3.3490</td>\n",
       "      <td>4.347665</td>\n",
       "    </tr>\n",
       "    <tr>\n",
       "      <th>86</th>\n",
       "      <td>5.1230</td>\n",
       "      <td>4.892685</td>\n",
       "    </tr>\n",
       "    <tr>\n",
       "      <th>531</th>\n",
       "      <td>5.7520</td>\n",
       "      <td>5.544323</td>\n",
       "    </tr>\n",
       "    <tr>\n",
       "      <th>327</th>\n",
       "      <td>7.0060</td>\n",
       "      <td>7.030900</td>\n",
       "    </tr>\n",
       "    <tr>\n",
       "      <th>527</th>\n",
       "      <td>5.8350</td>\n",
       "      <td>6.129259</td>\n",
       "    </tr>\n",
       "    <tr>\n",
       "      <th>247</th>\n",
       "      <td>5.1510</td>\n",
       "      <td>4.688568</td>\n",
       "    </tr>\n",
       "    <tr>\n",
       "      <th>250</th>\n",
       "      <td>5.1290</td>\n",
       "      <td>4.997529</td>\n",
       "    </tr>\n",
       "    <tr>\n",
       "      <th>465</th>\n",
       "      <td>3.4710</td>\n",
       "      <td>3.973801</td>\n",
       "    </tr>\n",
       "    <tr>\n",
       "      <th>924</th>\n",
       "      <td>3.6528</td>\n",
       "      <td>3.939029</td>\n",
       "    </tr>\n",
       "    <tr>\n",
       "      <th>817</th>\n",
       "      <td>6.3048</td>\n",
       "      <td>6.121687</td>\n",
       "    </tr>\n",
       "    <tr>\n",
       "      <th>482</th>\n",
       "      <td>7.0720</td>\n",
       "      <td>6.056264</td>\n",
       "    </tr>\n",
       "    <tr>\n",
       "      <th>884</th>\n",
       "      <td>4.9096</td>\n",
       "      <td>4.016454</td>\n",
       "    </tr>\n",
       "    <tr>\n",
       "      <th>591</th>\n",
       "      <td>4.4190</td>\n",
       "      <td>4.787016</td>\n",
       "    </tr>\n",
       "    <tr>\n",
       "      <th>244</th>\n",
       "      <td>5.1630</td>\n",
       "      <td>4.666103</td>\n",
       "    </tr>\n",
       "    <tr>\n",
       "      <th>668</th>\n",
       "      <td>6.1250</td>\n",
       "      <td>5.849670</td>\n",
       "    </tr>\n",
       "    <tr>\n",
       "      <th>490</th>\n",
       "      <td>6.7110</td>\n",
       "      <td>6.062792</td>\n",
       "    </tr>\n",
       "    <tr>\n",
       "      <th>933</th>\n",
       "      <td>2.8166</td>\n",
       "      <td>3.115154</td>\n",
       "    </tr>\n",
       "    <tr>\n",
       "      <th>30</th>\n",
       "      <td>6.5050</td>\n",
       "      <td>5.790703</td>\n",
       "    </tr>\n",
       "    <tr>\n",
       "      <th>323</th>\n",
       "      <td>7.2840</td>\n",
       "      <td>7.296029</td>\n",
       "    </tr>\n",
       "    <tr>\n",
       "      <th>756</th>\n",
       "      <td>4.3600</td>\n",
       "      <td>5.084949</td>\n",
       "    </tr>\n",
       "    <tr>\n",
       "      <th>679</th>\n",
       "      <td>5.8950</td>\n",
       "      <td>5.733409</td>\n",
       "    </tr>\n",
       "    <tr>\n",
       "      <th>606</th>\n",
       "      <td>4.1390</td>\n",
       "      <td>4.100160</td>\n",
       "    </tr>\n",
       "    <tr>\n",
       "      <th>208</th>\n",
       "      <td>5.9760</td>\n",
       "      <td>5.435092</td>\n",
       "    </tr>\n",
       "    <tr>\n",
       "      <th>266</th>\n",
       "      <td>4.6550</td>\n",
       "      <td>4.683062</td>\n",
       "    </tr>\n",
       "  </tbody>\n",
       "</table>\n",
       "</div>"
      ],
      "text/plain": [
       "     Actual Happiness Score  RF Predicted Score\n",
       "321                  7.3160            7.188211\n",
       "70                   5.4770            5.317565\n",
       "209                  5.9560            4.735064\n",
       "549                  5.3580            5.840924\n",
       "712                  5.2470            5.538325\n",
       "96                   4.8980            4.380109\n",
       "467                  3.3490            4.347665\n",
       "86                   5.1230            4.892685\n",
       "531                  5.7520            5.544323\n",
       "327                  7.0060            7.030900\n",
       "527                  5.8350            6.129259\n",
       "247                  5.1510            4.688568\n",
       "250                  5.1290            4.997529\n",
       "465                  3.4710            3.973801\n",
       "924                  3.6528            3.939029\n",
       "817                  6.3048            6.121687\n",
       "482                  7.0720            6.056264\n",
       "884                  4.9096            4.016454\n",
       "591                  4.4190            4.787016\n",
       "244                  5.1630            4.666103\n",
       "668                  6.1250            5.849670\n",
       "490                  6.7110            6.062792\n",
       "933                  2.8166            3.115154\n",
       "30                   6.5050            5.790703\n",
       "323                  7.2840            7.296029\n",
       "756                  4.3600            5.084949\n",
       "679                  5.8950            5.733409\n",
       "606                  4.1390            4.100160\n",
       "208                  5.9760            5.435092\n",
       "266                  4.6550            4.683062"
      ]
     },
     "execution_count": 58,
     "metadata": {},
     "output_type": "execute_result"
    }
   ],
   "source": [
    "comp_rf.columns = ['Actual Happiness Score','RF Predicted Score']\n",
    "comp_rf.head(30)"
   ]
  },
  {
   "cell_type": "markdown",
   "metadata": {},
   "source": [
    "Here we can see a comparison of the actual score versus the predicted score. Most of the scores are within 0.4 of the actual score, but it can be off by up to a whole point. "
   ]
  }
 ],
 "metadata": {
  "kernelspec": {
   "display_name": "Python 3",
   "language": "python",
   "name": "python3"
  },
  "language_info": {
   "codemirror_mode": {
    "name": "ipython",
    "version": 3
   },
   "file_extension": ".py",
   "mimetype": "text/x-python",
   "name": "python",
   "nbconvert_exporter": "python",
   "pygments_lexer": "ipython3",
   "version": "3.8.8"
  }
 },
 "nbformat": 4,
 "nbformat_minor": 4
}
